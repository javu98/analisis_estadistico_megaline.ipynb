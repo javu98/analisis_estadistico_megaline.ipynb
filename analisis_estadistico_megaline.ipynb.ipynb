{
 "cells": [
  {
   "cell_type": "markdown",
   "metadata": {
    "id": "3rYiDeEH0q0f"
   },
   "source": [
    "# ¿Cuál es la mejor tarifa?\n",
    "\n",
    "Estamos trabajando como analista para el operador de telecomunicaciones Megaline. La empresa ofrece a sus clientes dos tarifas de prepago, Surf y Ultimate. El departamento comercial quiere saber cuál de las tarifas genera más ingresos para poder ajustar el presupuesto de publicidad.\n",
    "\n",
    "Vas a realizar un análisis preliminar de las tarifas basado en una selección de clientes relativamente pequeña. Tendrás los datos de 500 clientes de Megaline: quiénes son los clientes, de dónde son, qué tarifa usan, así como la cantidad de llamadas que hicieron y los mensajes de texto que enviaron en 2018. Tu trabajo es analizar el comportamiento de los clientes y determinar qué tarifa de prepago genera más ingresos."
   ]
  },
  {
   "cell_type": "markdown",
   "metadata": {
    "id": "3rYiDeEH0q0f"
   },
   "source": [
    "# Introducción\n",
    "\n",
    "El propósito de este proyecto es analizar el comportamiento de los usuarios de los planes de llamadas y datos ofrecidos por la empresa Megaline, con el objetivo de determinar cuál de los planes genera mayores ingresos y comprender cómo varía el uso de los servicios entre diferentes segmentos de usuarios. Este análisis permitirá a Megaline tomar decisiones informadas para optimizar sus estrategias de marketing, precios y desarrollo de productos.\n",
    "\n",
    "## Acciones planeadas\n",
    "\n",
    "Las acciones planeadas para llevar a cabo este análisis incluyen:\n",
    "\n",
    "1. **Preparación de datos:**\n",
    "   - Revisión, limpieza y enriquecimiento de los datos proporcionados para asegurar que estén en un formato adecuado para el análisis.\n",
    "   - Identificación y corrección de problemas comunes en los datos, como valores ausentes, duplicados y tipos de datos incorrectos.\n",
    "\n",
    "2. **Análisis descriptivo:**\n",
    "   - Exploración del comportamiento de los usuarios en términos de llamadas, mensajes y tráfico de internet.\n",
    "   - Cálculo de estadísticas descriptivas para entender mejor las diferencias en el uso de los servicios entre los distintos planes.\n",
    "\n",
    "3. **Análisis comparativo:**\n",
    "   - Comparación de los ingresos generados por los usuarios de los distintos planes y en diferentes regiones geográficas.\n",
    "   - Pruebas de hipótesis para determinar si las diferencias observadas son estadísticamente significativas.\n",
    "\n",
    "4. **Conclusiones y recomendaciones:**\n",
    "   - Basado en los hallazgos del análisis, se elaborarán recomendaciones sobre cómo Megaline puede ajustar sus estrategias para maximizar la rentabilidad y satisfacer mejor las necesidades de sus usuarios.\n",
    "\n",
    "Este proyecto no solo proporcionará una visión detallada del comportamiento de los usuarios de Megaline, sino que también ofrecerá una base sólida para decisiones empresariales estratégicas.\n",
    "\n",
    "## Diccionario de datos\n",
    "\n",
    "En este proyecto, se trabajará con cinco tablas diferentes.\n",
    "\n",
    "1. **La tabla `users` (datos sobre los usuarios):**\n",
    "   - `user_id`: identificador único del usuario.\n",
    "   - `first_name`: nombre del usuario.\n",
    "   - `last_name`: apellido del usuario.\n",
    "   - `age`: edad del usuario (en años).\n",
    "   - `reg_date`: fecha de suscripción (dd, mm, aa).\n",
    "   - `churn_date`: la fecha en la que el usuario dejó de usar el servicio (si el valor es ausente, la tarifa se estaba usando cuando fue extraída esta base de datos).\n",
    "   - `city`: ciudad de residencia del usuario.\n",
    "   - `plan`: nombre de la tarifa.\n",
    "\n",
    "2. **La tabla `calls` (datos sobre las llamadas):**\n",
    "   - `id`: identificador único de la llamada.\n",
    "   - `call_date`: fecha de la llamada.\n",
    "   - `duration`: duración de la llamada (en minutos).\n",
    "   - `user_id`: el identificador del usuario que realiza la llamada.\n",
    "\n",
    "3. **La tabla `messages` (datos sobre los SMS):**\n",
    "   - `id`: identificador único del SMS.\n",
    "   - `message_date`: fecha del SMS.\n",
    "   - `user_id`: el identificador del usuario que manda el SMS.\n",
    "\n",
    "4. **La tabla `internet` (datos sobre las sesiones web):**\n",
    "   - `id`: identificador único de la sesión.\n",
    "   - `mb_used`: el volumen de datos gastados durante la sesión (en megabytes).\n",
    "   - `session_date`: fecha de la sesión web.\n",
    "   - `user_id`: identificador del usuario.\n",
    "\n",
    "5. **La tabla `plans` (datos sobre las tarifas):**\n",
    "   - `plan_name`: nombre de la tarifa.\n",
    "   - `usd_monthly_fee`: pago mensual en dólares estadounidenses.\n",
    "   - `minutes_included`: minutos incluidos al mes.\n",
    "   - `messages_included`: SMS incluidos al mes.\n",
    "   - `mb_per_month_included`: datos incluidos al mes (en megabytes).\n",
    "   - `usd_per_minute`: precio por minuto tras exceder los límites del paquete (por ejemplo, si el paquete incluye 100 minutos, el operador cobrará el minuto 101).\n",
    "   - `usd_per_message`: precio por SMS tras exceder los límites del paquete.\n",
    "   - `usd_per_gb`: precio por gigabyte de los datos extra tras exceder los límites del paquete (1 GB = 1024 megabytes).\n"
   ]
  },
  {
   "cell_type": "markdown",
   "metadata": {
    "id": "MQi4IPy70q0y"
   },
   "source": [
    "## Inicialización"
   ]
  },
  {
   "cell_type": "code",
   "execution_count": 1,
   "metadata": {
    "id": "MtYIuBxu0q0z"
   },
   "outputs": [],
   "source": [
    "# Cargar todas las librerías\n",
    "import pandas as pd\n",
    "import numpy as np\n",
    "from scipy import stats as st\n",
    "import matplotlib.pyplot as plt\n",
    "\n"
   ]
  },
  {
   "cell_type": "markdown",
   "metadata": {
    "id": "4ysWWC5i0q00"
   },
   "source": [
    "## Cargar datos"
   ]
  },
  {
   "cell_type": "code",
   "execution_count": 2,
   "metadata": {
    "id": "CCqPW7rS0q01"
   },
   "outputs": [
    {
     "name": "stdout",
     "output_type": "stream",
     "text": [
      "   user_id first_name  last_name  age                                   city  \\\n",
      "0     1000   Anamaria      Bauer   45  Atlanta-Sandy Springs-Roswell, GA MSA   \n",
      "1     1001     Mickey  Wilkerson   28        Seattle-Tacoma-Bellevue, WA MSA   \n",
      "2     1002     Carlee    Hoffman   36   Las Vegas-Henderson-Paradise, NV MSA   \n",
      "3     1003   Reynaldo    Jenkins   52                          Tulsa, OK MSA   \n",
      "4     1004    Leonila   Thompson   40        Seattle-Tacoma-Bellevue, WA MSA   \n",
      "\n",
      "     reg_date      plan churn_date  \n",
      "0  2018-12-24  ultimate        NaN  \n",
      "1  2018-08-13      surf        NaN  \n",
      "2  2018-10-21      surf        NaN  \n",
      "3  2018-01-28      surf        NaN  \n",
      "4  2018-05-23      surf        NaN  \n",
      "         id  user_id   call_date  duration\n",
      "0   1000_93     1000  2018-12-27      8.52\n",
      "1  1000_145     1000  2018-12-27     13.66\n",
      "2  1000_247     1000  2018-12-27     14.48\n",
      "3  1000_309     1000  2018-12-28      5.76\n",
      "4  1000_380     1000  2018-12-30      4.22\n",
      "         id  user_id message_date\n",
      "0  1000_125     1000   2018-12-27\n",
      "1  1000_160     1000   2018-12-31\n",
      "2  1000_223     1000   2018-12-31\n",
      "3  1000_251     1000   2018-12-27\n",
      "4  1000_255     1000   2018-12-26\n",
      "         id  user_id session_date  mb_used\n",
      "0   1000_13     1000   2018-12-29    89.86\n",
      "1  1000_204     1000   2018-12-31     0.00\n",
      "2  1000_379     1000   2018-12-28   660.40\n",
      "3  1000_413     1000   2018-12-26   270.99\n",
      "4  1000_442     1000   2018-12-27   880.22\n",
      "   messages_included  mb_per_month_included  minutes_included  \\\n",
      "0                 50                  15360               500   \n",
      "1               1000                  30720              3000   \n",
      "\n",
      "   usd_monthly_pay  usd_per_gb  usd_per_message  usd_per_minute plan_name  \n",
      "0               20          10             0.03            0.03      surf  \n",
      "1               70           7             0.01            0.01  ultimate  \n"
     ]
    }
   ],
   "source": [
    "# Carga los archivos de datos en diferentes DataFrames\n",
    "users_df = pd.read_csv('/datasets/megaline_users.csv')\n",
    "calls_df = pd.read_csv('/datasets/megaline_calls.csv')\n",
    "messages_df = pd.read_csv('/datasets/megaline_messages.csv')\n",
    "internet_df = pd.read_csv('/datasets/megaline_internet.csv')\n",
    "plans_df = pd.read_csv('/datasets/megaline_plans.csv')\n",
    "\n",
    "# Visualizar las primeras filas de cada DataFrame para confirmar la carga\n",
    "print(users_df.head())\n",
    "print(calls_df.head())\n",
    "print(messages_df.head())\n",
    "print(internet_df.head())\n",
    "print(plans_df.head())\n",
    "\n"
   ]
  },
  {
   "cell_type": "markdown",
   "metadata": {
    "id": "69qqoJ3r0q01"
   },
   "source": [
    "## Preparar los datos"
   ]
  },
  {
   "cell_type": "markdown",
   "metadata": {
    "id": "ohBhimvH0q01"
   },
   "source": [
    "## Tarifas"
   ]
  },
  {
   "cell_type": "code",
   "execution_count": 3,
   "metadata": {
    "id": "GptqP3Q40q02"
   },
   "outputs": [
    {
     "name": "stdout",
     "output_type": "stream",
     "text": [
      "<class 'pandas.core.frame.DataFrame'>\n",
      "RangeIndex: 2 entries, 0 to 1\n",
      "Data columns (total 8 columns):\n",
      " #   Column                 Non-Null Count  Dtype  \n",
      "---  ------                 --------------  -----  \n",
      " 0   messages_included      2 non-null      int64  \n",
      " 1   mb_per_month_included  2 non-null      int64  \n",
      " 2   minutes_included       2 non-null      int64  \n",
      " 3   usd_monthly_pay        2 non-null      int64  \n",
      " 4   usd_per_gb             2 non-null      int64  \n",
      " 5   usd_per_message        2 non-null      float64\n",
      " 6   usd_per_minute         2 non-null      float64\n",
      " 7   plan_name              2 non-null      object \n",
      "dtypes: float64(2), int64(5), object(1)\n",
      "memory usage: 256.0+ bytes\n",
      "None\n"
     ]
    }
   ],
   "source": [
    "print(plans_df.info())# Imprime la información general/resumida sobre el DataFrame de las tarifas\n",
    "\n"
   ]
  },
  {
   "cell_type": "code",
   "execution_count": 4,
   "metadata": {
    "id": "64xzjwL70q02"
   },
   "outputs": [
    {
     "name": "stdout",
     "output_type": "stream",
     "text": [
      "       messages_included  mb_per_month_included  minutes_included  \\\n",
      "count           2.000000               2.000000          2.000000   \n",
      "mean          525.000000           23040.000000       1750.000000   \n",
      "std           671.751442           10861.160159       1767.766953   \n",
      "min            50.000000           15360.000000        500.000000   \n",
      "25%           287.500000           19200.000000       1125.000000   \n",
      "50%           525.000000           23040.000000       1750.000000   \n",
      "75%           762.500000           26880.000000       2375.000000   \n",
      "max          1000.000000           30720.000000       3000.000000   \n",
      "\n",
      "       usd_monthly_pay  usd_per_gb  usd_per_message  usd_per_minute  \n",
      "count         2.000000     2.00000         2.000000        2.000000  \n",
      "mean         45.000000     8.50000         0.020000        0.020000  \n",
      "std          35.355339     2.12132         0.014142        0.014142  \n",
      "min          20.000000     7.00000         0.010000        0.010000  \n",
      "25%          32.500000     7.75000         0.015000        0.015000  \n",
      "50%          45.000000     8.50000         0.020000        0.020000  \n",
      "75%          57.500000     9.25000         0.025000        0.025000  \n",
      "max          70.000000    10.00000         0.030000        0.030000  \n",
      "   messages_included  mb_per_month_included  minutes_included  \\\n",
      "0                 50                  15360               500   \n",
      "1               1000                  30720              3000   \n",
      "\n",
      "   usd_monthly_pay  usd_per_gb  usd_per_message  usd_per_minute plan_name  \n",
      "0               20          10             0.03            0.03      surf  \n",
      "1               70           7             0.01            0.01  ultimate  \n"
     ]
    }
   ],
   "source": [
    "print(plans_df.describe())\n",
    "\n",
    "print(plans_df.head())# Imprime una muestra de los datos para las tarifas\n",
    "\n"
   ]
  },
  {
   "cell_type": "markdown",
   "metadata": {
    "id": "mEc_3_hs0q02"
   },
   "source": [
    "Información general (plans_df.info()):\n",
    "\n",
    "Columnas: Hay un total de 8 columnas, todas con 2 valores no nulos.\n",
    "\n",
    "Tipos de datos:\n",
    "- Las columnas relacionadas con valores numéricos (como usd_monthly_pay, usd_per_gb, etc.) están correctamente definidas como int64 o float64, lo cual es adecuado para los análisis que vas a realizar.\n",
    "- La columna plan_name es de tipo object, que es apropiado para almacenar cadenas de texto.\n",
    "\n",
    "Muestra de datos (plans_df.head()):\n",
    "\n",
    "Datos: Se muestran dos filas correspondientes a las tarifas 'surf' y 'ultimate', con información detallada sobre los mensajes, megabytes, minutos incluidos, y los costos adicionales por exceder los límites del plan.\n",
    "Problemas identificados:\n",
    "\n",
    "Tipos de datos: No parece haber problemas con los tipos de datos en este DataFrame, ya que todos parecen estar correctamente definidos.\n",
    "\n",
    "Datos ausentes: No hay valores ausentes (NaN) en las columnas, lo que indica que los datos están completos.\n",
    "\n",
    "Redondeo: No se observa ningún problema relacionado con el redondeo en los costos por minutos, mensajes o gigabytes adicionales.\n",
    "\n",
    "En general, la tabla plans_df parece estar en buen estado y lista para ser utilizada en análisis posteriores. No se requieren cambios adicionales en este DataFrame en cuanto a correcciones de tipos de datos o tratamiento de valores ausentes."
   ]
  },
  {
   "cell_type": "markdown",
   "metadata": {
    "id": "R3C05i1l0q03"
   },
   "source": [
    "## Corregir datos"
   ]
  },
  {
   "cell_type": "markdown",
   "metadata": {},
   "source": [
    "Después de revisar la información general y una muestra de los datos en el DataFrame `plans_df`, no se identificaron problemas evidentes. Los tipos de datos son adecuados y no hay valores ausentes en este DataFrame. Por lo tanto, no se requiere ninguna corrección en esta tabla en particular.\n"
   ]
  },
  {
   "cell_type": "markdown",
   "metadata": {
    "id": "LJir7bml0q03"
   },
   "source": [
    "## Enriquecer los datos"
   ]
  },
  {
   "cell_type": "markdown",
   "metadata": {},
   "source": [
    "Después de considerar la posibilidad de enriquecer los datos del DataFrame plans_df con columnas adicionales, como los costos promedio por minuto, mensaje y gigabyte extra, se determinó que estas no agregarían información relevante o nueva, ya que los datos necesarios para el análisis ya están presentes en las columnas originales. Por lo tanto, no se requiere añadir columnas adicionales en esta tabla.\n"
   ]
  },
  {
   "cell_type": "markdown",
   "metadata": {
    "id": "1n2X6WXf0q04"
   },
   "source": [
    "## Usuarios/as"
   ]
  },
  {
   "cell_type": "code",
   "execution_count": 7,
   "metadata": {
    "id": "2NgjWFqx0q05"
   },
   "outputs": [
    {
     "name": "stdout",
     "output_type": "stream",
     "text": [
      "<class 'pandas.core.frame.DataFrame'>\n",
      "RangeIndex: 500 entries, 0 to 499\n",
      "Data columns (total 8 columns):\n",
      " #   Column      Non-Null Count  Dtype \n",
      "---  ------      --------------  ----- \n",
      " 0   user_id     500 non-null    int64 \n",
      " 1   first_name  500 non-null    object\n",
      " 2   last_name   500 non-null    object\n",
      " 3   age         500 non-null    int64 \n",
      " 4   city        500 non-null    object\n",
      " 5   reg_date    500 non-null    object\n",
      " 6   plan        500 non-null    object\n",
      " 7   churn_date  34 non-null     object\n",
      "dtypes: int64(2), object(6)\n",
      "memory usage: 31.4+ KB\n",
      "None\n"
     ]
    }
   ],
   "source": [
    "# Imprime la información general/resumida sobre el DataFrame de usuarios\n",
    "print(users_df.info())\n",
    "\n"
   ]
  },
  {
   "cell_type": "code",
   "execution_count": 8,
   "metadata": {
    "id": "1IN1L9uh0q05"
   },
   "outputs": [
    {
     "name": "stdout",
     "output_type": "stream",
     "text": [
      "   user_id first_name  last_name  age                                   city  \\\n",
      "0     1000   Anamaria      Bauer   45  Atlanta-Sandy Springs-Roswell, GA MSA   \n",
      "1     1001     Mickey  Wilkerson   28        Seattle-Tacoma-Bellevue, WA MSA   \n",
      "2     1002     Carlee    Hoffman   36   Las Vegas-Henderson-Paradise, NV MSA   \n",
      "3     1003   Reynaldo    Jenkins   52                          Tulsa, OK MSA   \n",
      "4     1004    Leonila   Thompson   40        Seattle-Tacoma-Bellevue, WA MSA   \n",
      "\n",
      "     reg_date      plan churn_date  \n",
      "0  2018-12-24  ultimate        NaN  \n",
      "1  2018-08-13      surf        NaN  \n",
      "2  2018-10-21      surf        NaN  \n",
      "3  2018-01-28      surf        NaN  \n",
      "4  2018-05-23      surf        NaN  \n"
     ]
    }
   ],
   "source": [
    "# Imprime una muestra de datos para usuarios\n",
    "print(users_df.head())\n"
   ]
  },
  {
   "cell_type": "markdown",
   "metadata": {
    "id": "dCZoUq4f0q06"
   },
   "source": [
    "Observaciones sobre el DataFrame users_df:\n",
    "\n",
    "Estructura general:\n",
    "\n",
    "El DataFrame tiene 500 filas y 8 columnas.\n",
    "\n",
    "Las columnas user_id, first_name, last_name, age, city, y plan no tienen valores ausentes.\n",
    "\n",
    "La columna churn_date tiene valores nulos (NaN) para la mayoría de los usuarios (466 de los 500 usuarios no tienen fecha de cancelación, lo que indica que aún están activos).\n",
    "\n",
    "Tipos de datos:\n",
    "\n",
    "Los tipos de datos son generalmente adecuados:\n",
    "\n",
    "- user_id y age son enteros (int64).\n",
    "- first_name, last_name, city, plan y reg_date son cadenas de texto (object).\n",
    "- churn_date es una cadena de texto (object), lo cual es adecuado dado que representa una fecha, aunque convertirla a formato datetime podría facilitar futuros análisis.\n",
    "\n",
    "Valores ausentes:\n",
    "\n",
    "La columna churn_date tiene valores ausentes (NaN), lo que es esperado para los usuarios que aún están activos. No hay problemas evidentes con estos valores ausentes ya que reflejan información válida sobre el estado de los usuarios.\n",
    "\n",
    "Problemas potenciales:\n",
    "\n",
    "Formato de fechas: Tanto reg_date como churn_date están en formato object. Sería conveniente convertir estas columnas a formato datetime para facilitar operaciones relacionadas con fechas.\n",
    "\n",
    "Valores ausentes en churn_date: No se consideran un problema, pero es importante tratarlos adecuadamente en los análisis posteriores, como al calcular la duración del uso de un plan."
   ]
  },
  {
   "cell_type": "markdown",
   "metadata": {
    "id": "BX5FQh_I0q06"
   },
   "source": [
    "### Corregir los datos"
   ]
  },
  {
   "cell_type": "code",
   "execution_count": 9,
   "metadata": {
    "id": "yUqX-K0C0q07"
   },
   "outputs": [
    {
     "name": "stdout",
     "output_type": "stream",
     "text": [
      "<class 'pandas.core.frame.DataFrame'>\n",
      "RangeIndex: 500 entries, 0 to 499\n",
      "Data columns (total 8 columns):\n",
      " #   Column      Non-Null Count  Dtype         \n",
      "---  ------      --------------  -----         \n",
      " 0   user_id     500 non-null    int64         \n",
      " 1   first_name  500 non-null    object        \n",
      " 2   last_name   500 non-null    object        \n",
      " 3   age         500 non-null    int64         \n",
      " 4   city        500 non-null    object        \n",
      " 5   reg_date    500 non-null    datetime64[ns]\n",
      " 6   plan        500 non-null    object        \n",
      " 7   churn_date  34 non-null     datetime64[ns]\n",
      "dtypes: datetime64[ns](2), int64(2), object(4)\n",
      "memory usage: 31.4+ KB\n",
      "None\n"
     ]
    }
   ],
   "source": [
    "# Convertir las columnas reg_date y churn_date a formato datetime\n",
    "users_df['reg_date'] = pd.to_datetime(users_df['reg_date'])\n",
    "users_df['churn_date'] = pd.to_datetime(users_df['churn_date'], errors='coerce')\n",
    "\n",
    "# Verificar los cambios\n",
    "print(users_df.info())"
   ]
  },
  {
   "cell_type": "markdown",
   "metadata": {
    "id": "ycwuARJp0q07"
   },
   "source": [
    "### Enriquecer los datos"
   ]
  },
  {
   "cell_type": "markdown",
   "metadata": {
    "id": "96NIh4CJ0q08"
   },
   "source": [
    "Se puede calcular el tiempo que un usuario ha estado utilizando el servicio. Esto puede ser útil para correlacionar la duración con el plan o con la retención de clientes.\n",
    "\n",
    "También se le puede añadir una columna que indique en qué año se registró el usuario, lo que puede ser útil para análisis de cohortes."
   ]
  },
  {
   "cell_type": "code",
   "execution_count": 10,
   "metadata": {
    "id": "iq0AaBS90q08"
   },
   "outputs": [
    {
     "name": "stdout",
     "output_type": "stream",
     "text": [
      "   user_id first_name  last_name  age                                   city  \\\n",
      "0     1000   Anamaria      Bauer   45  Atlanta-Sandy Springs-Roswell, GA MSA   \n",
      "1     1001     Mickey  Wilkerson   28        Seattle-Tacoma-Bellevue, WA MSA   \n",
      "2     1002     Carlee    Hoffman   36   Las Vegas-Henderson-Paradise, NV MSA   \n",
      "3     1003   Reynaldo    Jenkins   52                          Tulsa, OK MSA   \n",
      "4     1004    Leonila   Thompson   40        Seattle-Tacoma-Bellevue, WA MSA   \n",
      "\n",
      "    reg_date      plan churn_date  service_duration  \n",
      "0 2018-12-24  ultimate        NaT            2092.0  \n",
      "1 2018-08-13      surf        NaT            2225.0  \n",
      "2 2018-10-21      surf        NaT            2156.0  \n",
      "3 2018-01-28      surf        NaT            2422.0  \n",
      "4 2018-05-23      surf        NaT            2307.0  \n"
     ]
    }
   ],
   "source": [
    "# Calcular la duración del servicio en días\n",
    "users_df['service_duration'] = (users_df['churn_date'] - users_df['reg_date']).dt.days\n",
    "\n",
    "# Para los usuarios activos, calcular la duración hasta la fecha actual\n",
    "users_df['service_duration'].fillna((pd.to_datetime('today') - users_df['reg_date']).dt.days, inplace=True)\n",
    "\n",
    "# Verificar los cambios\n",
    "print(users_df.head())"
   ]
  },
  {
   "cell_type": "code",
   "execution_count": 11,
   "metadata": {},
   "outputs": [
    {
     "name": "stdout",
     "output_type": "stream",
     "text": [
      "   user_id first_name  last_name  age                                   city  \\\n",
      "0     1000   Anamaria      Bauer   45  Atlanta-Sandy Springs-Roswell, GA MSA   \n",
      "1     1001     Mickey  Wilkerson   28        Seattle-Tacoma-Bellevue, WA MSA   \n",
      "2     1002     Carlee    Hoffman   36   Las Vegas-Henderson-Paradise, NV MSA   \n",
      "3     1003   Reynaldo    Jenkins   52                          Tulsa, OK MSA   \n",
      "4     1004    Leonila   Thompson   40        Seattle-Tacoma-Bellevue, WA MSA   \n",
      "\n",
      "    reg_date      plan churn_date  service_duration  registration_year  \n",
      "0 2018-12-24  ultimate        NaT            2092.0               2018  \n",
      "1 2018-08-13      surf        NaT            2225.0               2018  \n",
      "2 2018-10-21      surf        NaT            2156.0               2018  \n",
      "3 2018-01-28      surf        NaT            2422.0               2018  \n",
      "4 2018-05-23      surf        NaT            2307.0               2018  \n"
     ]
    }
   ],
   "source": [
    "# Agregar columna con el año de registro\n",
    "users_df['registration_year'] = users_df['reg_date'].dt.year\n",
    "\n",
    "# Verificar los cambios\n",
    "print(users_df.head())"
   ]
  },
  {
   "cell_type": "markdown",
   "metadata": {
    "id": "o7MeKCid0q08"
   },
   "source": [
    "## Llamadas"
   ]
  },
  {
   "cell_type": "code",
   "execution_count": 12,
   "metadata": {
    "id": "6dDlnoDm0q08"
   },
   "outputs": [
    {
     "name": "stdout",
     "output_type": "stream",
     "text": [
      "<class 'pandas.core.frame.DataFrame'>\n",
      "RangeIndex: 137735 entries, 0 to 137734\n",
      "Data columns (total 4 columns):\n",
      " #   Column     Non-Null Count   Dtype  \n",
      "---  ------     --------------   -----  \n",
      " 0   id         137735 non-null  object \n",
      " 1   user_id    137735 non-null  int64  \n",
      " 2   call_date  137735 non-null  object \n",
      " 3   duration   137735 non-null  float64\n",
      "dtypes: float64(1), int64(1), object(2)\n",
      "memory usage: 4.2+ MB\n",
      "None\n"
     ]
    }
   ],
   "source": [
    "# Imprime la información general/resumida sobre el DataFrame de las llamadas\n",
    "print(calls_df.info())\n",
    "\n"
   ]
  },
  {
   "cell_type": "code",
   "execution_count": 13,
   "metadata": {
    "id": "kuh1vlNB0q09"
   },
   "outputs": [
    {
     "name": "stdout",
     "output_type": "stream",
     "text": [
      "         id  user_id   call_date  duration\n",
      "0   1000_93     1000  2018-12-27      8.52\n",
      "1  1000_145     1000  2018-12-27     13.66\n",
      "2  1000_247     1000  2018-12-27     14.48\n",
      "3  1000_309     1000  2018-12-28      5.76\n",
      "4  1000_380     1000  2018-12-30      4.22\n"
     ]
    }
   ],
   "source": [
    "# Imprime una muestra de datos para las llamadas\n",
    "print(calls_df.head())\n",
    "\n"
   ]
  },
  {
   "cell_type": "markdown",
   "metadata": {
    "id": "DOAxYJSx0q09"
   },
   "source": [
    "Observaciones sobre el DataFrame calls_df:\n",
    "\n",
    "Estructura general:\n",
    "\n",
    "El DataFrame contiene 137,735 registros y 4 columnas.\n",
    "Todas las columnas (id, user_id, call_date, duration) están completas, sin valores nulos.\n",
    "\n",
    "Tipos de datos:\n",
    "\n",
    "- La columna id es de tipo object, lo cual es común para identificadores que no necesariamente son numéricos.\n",
    "- La columna user_id es de tipo int64, que es adecuado para identificadores de usuarios.\n",
    "- La columna call_date es de tipo object, pero debería ser convertida a datetime para facilitar el análisis temporal.\n",
    "- La columna duration es de tipo float64, que es apropiado para representar la duración de las llamadas en minutos.\n",
    "\n",
    "Duración de las llamadas:\n",
    "\n",
    "Las duraciones están representadas con decimales, lo cual es adecuado para la precisión requerida en este caso. Sin embargo, en algunos casos podrías encontrar duraciones extremadamente pequeñas o incluso cero, que podrían requerir una revisión dependiendo del contexto de uso.\n",
    "\n",
    "Problemas potenciales:\n",
    "\n",
    "Formato de fechas: La columna call_date está en formato object, lo cual no es ideal para fechas. Debería ser convertida a formato datetime para facilitar cualquier análisis basado en el tiempo.\n",
    "\n",
    "Duraciones anómalas: Sería prudente revisar si existen valores anómalos en la columna duration, como llamadas con duración de 0 minutos o valores negativos, aunque en la muestra no se han observado."
   ]
  },
  {
   "cell_type": "markdown",
   "metadata": {
    "id": "S7hzxmbX0q0-"
   },
   "source": [
    "### Corregir los datos"
   ]
  },
  {
   "cell_type": "markdown",
   "metadata": {
    "id": "YxWyAjD20q0-"
   },
   "source": [
    "Basándonos en las observaciones anteriores, las correcciones necesarias incluyen la conversión de la columna call_date a datetime y la verificación de duraciones anómalas en la columna duration."
   ]
  },
  {
   "cell_type": "code",
   "execution_count": 14,
   "metadata": {
    "id": "S2r8xA4f0q0-"
   },
   "outputs": [
    {
     "name": "stdout",
     "output_type": "stream",
     "text": [
      "Duraciones anómalas encontradas:\n",
      "              id  user_id  call_date  duration\n",
      "19        1001_4     1001 2018-12-05       0.0\n",
      "25       1001_13     1001 2018-12-24       0.0\n",
      "31       1001_30     1001 2018-10-17       0.0\n",
      "32       1001_31     1001 2018-11-03       0.0\n",
      "34       1001_35     1001 2018-12-21       0.0\n",
      "...          ...      ...        ...       ...\n",
      "137714  1499_183     1499 2018-11-10       0.0\n",
      "137715  1499_184     1499 2018-09-15       0.0\n",
      "137720  1499_189     1499 2018-12-27       0.0\n",
      "137722  1499_191     1499 2018-12-24       0.0\n",
      "137725  1499_194     1499 2018-10-31       0.0\n",
      "\n",
      "[26834 rows x 4 columns]\n",
      "<class 'pandas.core.frame.DataFrame'>\n",
      "Int64Index: 110901 entries, 0 to 137734\n",
      "Data columns (total 4 columns):\n",
      " #   Column     Non-Null Count   Dtype         \n",
      "---  ------     --------------   -----         \n",
      " 0   id         110901 non-null  object        \n",
      " 1   user_id    110901 non-null  int64         \n",
      " 2   call_date  110901 non-null  datetime64[ns]\n",
      " 3   duration   110901 non-null  float64       \n",
      "dtypes: datetime64[ns](1), float64(1), int64(1), object(1)\n",
      "memory usage: 4.2+ MB\n",
      "None\n"
     ]
    }
   ],
   "source": [
    "# Convertir la columna call_date a formato datetime\n",
    "calls_df['call_date'] = pd.to_datetime(calls_df['call_date'])\n",
    "\n",
    "# Verificar si hay duraciones anómalas (duración <= 0)\n",
    "anomalous_durations = calls_df[calls_df['duration'] <= 0]\n",
    "print(\"Duraciones anómalas encontradas:\")\n",
    "print(anomalous_durations)\n",
    "\n",
    "# Si es necesario, eliminar las duraciones anómalas\n",
    "calls_df = calls_df[calls_df['duration'] > 0]\n",
    "\n",
    "# Verificar los cambios\n",
    "print(calls_df.info())"
   ]
  },
  {
   "cell_type": "markdown",
   "metadata": {
    "id": "KrMgTrlG0q0_"
   },
   "source": [
    "### Enriquecer los datos"
   ]
  },
  {
   "cell_type": "markdown",
   "metadata": {
    "id": "a9MbmEvE0q0_"
   },
   "source": [
    "Dado que Megaline redondea los segundos a minutos, se puede agregar una columna que refleje la duración redondeada al alza para cada llamada. También se puede agregar una columna que indique el mes en que se realizó cada llamada. Esto podría ser útil para análisis estacionales o temporales."
   ]
  },
  {
   "cell_type": "code",
   "execution_count": 15,
   "metadata": {
    "id": "iZ1avpA_0q0_"
   },
   "outputs": [
    {
     "name": "stdout",
     "output_type": "stream",
     "text": [
      "         id  user_id  call_date  duration  rounded_duration\n",
      "0   1000_93     1000 2018-12-27      8.52                 9\n",
      "1  1000_145     1000 2018-12-27     13.66                14\n",
      "2  1000_247     1000 2018-12-27     14.48                15\n",
      "3  1000_309     1000 2018-12-28      5.76                 6\n",
      "4  1000_380     1000 2018-12-30      4.22                 5\n"
     ]
    }
   ],
   "source": [
    "# Agregar una columna con la duración redondeada al alza y almacenarla como entero\n",
    "calls_df['rounded_duration'] = np.ceil(calls_df['duration']).astype(int)\n",
    "\n",
    "# Verificar los cambios\n",
    "print(calls_df.head())"
   ]
  },
  {
   "cell_type": "code",
   "execution_count": 16,
   "metadata": {},
   "outputs": [
    {
     "name": "stdout",
     "output_type": "stream",
     "text": [
      "         id  user_id  call_date  duration  rounded_duration  call_month\n",
      "0   1000_93     1000 2018-12-27      8.52                 9          12\n",
      "1  1000_145     1000 2018-12-27     13.66                14          12\n",
      "2  1000_247     1000 2018-12-27     14.48                15          12\n",
      "3  1000_309     1000 2018-12-28      5.76                 6          12\n",
      "4  1000_380     1000 2018-12-30      4.22                 5          12\n"
     ]
    }
   ],
   "source": [
    "# Agregar una columna con el mes de la llamada\n",
    "calls_df['call_month'] = calls_df['call_date'].dt.month\n",
    "\n",
    "# Verificar los cambios\n",
    "print(calls_df.head())"
   ]
  },
  {
   "cell_type": "markdown",
   "metadata": {
    "id": "mOUZSi180q0_"
   },
   "source": [
    "## Mensajes"
   ]
  },
  {
   "cell_type": "code",
   "execution_count": 17,
   "metadata": {
    "id": "R-bYJpdV0q1A"
   },
   "outputs": [
    {
     "name": "stdout",
     "output_type": "stream",
     "text": [
      "<class 'pandas.core.frame.DataFrame'>\n",
      "RangeIndex: 76051 entries, 0 to 76050\n",
      "Data columns (total 3 columns):\n",
      " #   Column        Non-Null Count  Dtype \n",
      "---  ------        --------------  ----- \n",
      " 0   id            76051 non-null  object\n",
      " 1   user_id       76051 non-null  int64 \n",
      " 2   message_date  76051 non-null  object\n",
      "dtypes: int64(1), object(2)\n",
      "memory usage: 1.7+ MB\n",
      "None\n"
     ]
    }
   ],
   "source": [
    "# Imprime la información general/resumida sobre el DataFrame de los mensajes\n",
    "print(messages_df.info())"
   ]
  },
  {
   "cell_type": "code",
   "execution_count": 18,
   "metadata": {
    "id": "mCEl2iGE0q1A"
   },
   "outputs": [
    {
     "name": "stdout",
     "output_type": "stream",
     "text": [
      "         id  user_id message_date\n",
      "0  1000_125     1000   2018-12-27\n",
      "1  1000_160     1000   2018-12-31\n",
      "2  1000_223     1000   2018-12-31\n",
      "3  1000_251     1000   2018-12-27\n",
      "4  1000_255     1000   2018-12-26\n"
     ]
    }
   ],
   "source": [
    "# Imprime una muestra de datos para los mensajes\n",
    "print(messages_df.head())"
   ]
  },
  {
   "cell_type": "markdown",
   "metadata": {
    "id": "04xDj7KH0q1A"
   },
   "source": [
    "Observaciones sobre el DataFrame messages_df:\n",
    "\n",
    "Estructura general:\n",
    "\n",
    "El DataFrame contiene 76,051 registros y 3 columnas.\n",
    "Las columnas son id, user_id, y message_date.\n",
    "No hay valores nulos en ninguna de las columnas, lo que indica que los datos están completos.\n",
    "\n",
    "Tipos de datos:\n",
    "\n",
    "- La columna id es de tipo object, lo cual es común para identificadores que no necesariamente son numéricos.\n",
    "- La columna user_id es de tipo int64, que es adecuado para identificadores de usuarios.\n",
    "- La columna message_date es de tipo object, lo cual no es ideal para fechas. Debería ser convertida a datetime para facilitar el análisis temporal.\n",
    "\n",
    "Problemas potenciales:\n",
    "\n",
    "Formato de fechas: La columna message_date está en formato object, lo cual no es adecuado para operaciones relacionadas con fechas. Debería ser convertida a datetime."
   ]
  },
  {
   "cell_type": "markdown",
   "metadata": {
    "id": "Sprfak900q1B"
   },
   "source": [
    "### Corregir los datos"
   ]
  },
  {
   "cell_type": "markdown",
   "metadata": {
    "id": "eGw7d9j10q1B"
   },
   "source": [
    "Basándonos en las observaciones iniciales, la corrección principal que necesitas hacer es convertir la columna message_date a formato datetime."
   ]
  },
  {
   "cell_type": "code",
   "execution_count": 19,
   "metadata": {
    "id": "vsllvkoa0q1B"
   },
   "outputs": [
    {
     "name": "stdout",
     "output_type": "stream",
     "text": [
      "<class 'pandas.core.frame.DataFrame'>\n",
      "RangeIndex: 76051 entries, 0 to 76050\n",
      "Data columns (total 3 columns):\n",
      " #   Column        Non-Null Count  Dtype         \n",
      "---  ------        --------------  -----         \n",
      " 0   id            76051 non-null  object        \n",
      " 1   user_id       76051 non-null  int64         \n",
      " 2   message_date  76051 non-null  datetime64[ns]\n",
      "dtypes: datetime64[ns](1), int64(1), object(1)\n",
      "memory usage: 1.7+ MB\n",
      "None\n"
     ]
    }
   ],
   "source": [
    "# Convertir la columna message_date a formato datetime\n",
    "messages_df['message_date'] = pd.to_datetime(messages_df['message_date'])\n",
    "\n",
    "# Verificar los cambios\n",
    "print(messages_df.info())"
   ]
  },
  {
   "cell_type": "markdown",
   "metadata": {
    "id": "HvLid7iD0q1B"
   },
   "source": [
    "### Enriquecer los datos"
   ]
  },
  {
   "cell_type": "markdown",
   "metadata": {
    "id": "8nhPFKIe0q1C"
   },
   "source": [
    "Se puede agregar una columna que indique el mes en que se envió cada mensaje. Esto podría ser útil para análisis estacionales o temporales. Otra opción es agregar una columna que indique el día de la semana en que se envió cada mensaje, lo cual podría ser útil para identificar patrones de uso durante la semana."
   ]
  },
  {
   "cell_type": "code",
   "execution_count": 20,
   "metadata": {
    "id": "zYEXZac10q1C"
   },
   "outputs": [],
   "source": [
    "# Agregar una columna con el mes del mensaje\n",
    "messages_df['message_month'] = messages_df['message_date'].dt.month"
   ]
  },
  {
   "cell_type": "code",
   "execution_count": 21,
   "metadata": {},
   "outputs": [
    {
     "name": "stdout",
     "output_type": "stream",
     "text": [
      "         id  user_id message_date  message_month message_weekday\n",
      "0  1000_125     1000   2018-12-27             12        Thursday\n",
      "1  1000_160     1000   2018-12-31             12          Monday\n",
      "2  1000_223     1000   2018-12-31             12          Monday\n",
      "3  1000_251     1000   2018-12-27             12        Thursday\n",
      "4  1000_255     1000   2018-12-26             12       Wednesday\n"
     ]
    }
   ],
   "source": [
    "# Agregar una columna con el día de la semana del mensaje\n",
    "messages_df['message_weekday'] = messages_df['message_date'].dt.day_name()\n",
    "\n",
    "# Verificar los cambios\n",
    "print(messages_df.head())"
   ]
  },
  {
   "cell_type": "markdown",
   "metadata": {
    "id": "bStkaxn40q1C"
   },
   "source": [
    "## Internet"
   ]
  },
  {
   "cell_type": "code",
   "execution_count": 22,
   "metadata": {
    "id": "e-Uz5qyn0q1C"
   },
   "outputs": [
    {
     "name": "stdout",
     "output_type": "stream",
     "text": [
      "<class 'pandas.core.frame.DataFrame'>\n",
      "RangeIndex: 104825 entries, 0 to 104824\n",
      "Data columns (total 4 columns):\n",
      " #   Column        Non-Null Count   Dtype  \n",
      "---  ------        --------------   -----  \n",
      " 0   id            104825 non-null  object \n",
      " 1   user_id       104825 non-null  int64  \n",
      " 2   session_date  104825 non-null  object \n",
      " 3   mb_used       104825 non-null  float64\n",
      "dtypes: float64(1), int64(1), object(2)\n",
      "memory usage: 3.2+ MB\n",
      "None\n"
     ]
    }
   ],
   "source": [
    "# Imprime la información general/resumida sobre el DataFrame de internet\n",
    "print(internet_df.info())"
   ]
  },
  {
   "cell_type": "code",
   "execution_count": 23,
   "metadata": {
    "id": "9r3x_XLw0q1C"
   },
   "outputs": [
    {
     "name": "stdout",
     "output_type": "stream",
     "text": [
      "         id  user_id session_date  mb_used\n",
      "0   1000_13     1000   2018-12-29    89.86\n",
      "1  1000_204     1000   2018-12-31     0.00\n",
      "2  1000_379     1000   2018-12-28   660.40\n",
      "3  1000_413     1000   2018-12-26   270.99\n",
      "4  1000_442     1000   2018-12-27   880.22\n"
     ]
    }
   ],
   "source": [
    "# Imprime una muestra de datos para el tráfico de internet\n",
    "print(internet_df.head())"
   ]
  },
  {
   "cell_type": "markdown",
   "metadata": {
    "id": "EzOG5ik30q1D"
   },
   "source": [
    "Observaciones sobre el DataFrame internet_df:\n",
    "\n",
    "Estructura general:\n",
    "\n",
    "El DataFrame contiene 104,825 registros y 4 columnas (id, user_id, session_date, mb_used).\n",
    "No hay valores nulos en ninguna de las columnas, lo que indica que los datos están completos.\n",
    "\n",
    "Tipos de datos:\n",
    "\n",
    "- La columna id es de tipo object, lo cual es común para identificadores que no necesariamente son numéricos.\n",
    "- La columna user_id es de tipo int64, lo cual es adecuado para identificadores de usuarios.\n",
    "- La columna session_date es de tipo object, pero debería ser convertida a datetime para facilitar el análisis temporal.\n",
    "- La columna mb_used es de tipo float64, lo cual es adecuado para representar el volumen de datos utilizados en megabytes (MB).\n",
    "\n",
    "Problemas potenciales:\n",
    "\n",
    "Formato de Fechas: La columna session_date está en formato object, lo cual no es ideal para operaciones relacionadas con fechas. Debería ser convertida a datetime para facilitar el análisis temporal.\n",
    "Valores Anómalos en mb_used: Sería prudente verificar si existen valores anómalos en la columna mb_used, como valores negativos o excesivamente altos, que podrían indicar errores en los datos."
   ]
  },
  {
   "cell_type": "markdown",
   "metadata": {
    "id": "yA0tkPFg0q1D"
   },
   "source": [
    "### Corregir los datos"
   ]
  },
  {
   "cell_type": "code",
   "execution_count": 24,
   "metadata": {
    "id": "zVeanzdd0q1E"
   },
   "outputs": [
    {
     "name": "stdout",
     "output_type": "stream",
     "text": [
      "Uso de datos anómalo encontrado:\n",
      "Empty DataFrame\n",
      "Columns: [id, user_id, session_date, mb_used]\n",
      "Index: []\n",
      "<class 'pandas.core.frame.DataFrame'>\n",
      "Int64Index: 104825 entries, 0 to 104824\n",
      "Data columns (total 4 columns):\n",
      " #   Column        Non-Null Count   Dtype         \n",
      "---  ------        --------------   -----         \n",
      " 0   id            104825 non-null  object        \n",
      " 1   user_id       104825 non-null  int64         \n",
      " 2   session_date  104825 non-null  datetime64[ns]\n",
      " 3   mb_used       104825 non-null  float64       \n",
      "dtypes: datetime64[ns](1), float64(1), int64(1), object(1)\n",
      "memory usage: 4.0+ MB\n",
      "None\n"
     ]
    }
   ],
   "source": [
    "# Convertir la columna session_date a formato datetime\n",
    "internet_df['session_date'] = pd.to_datetime(internet_df['session_date'])\n",
    "\n",
    "# Verificar si hay valores anómalos en mb_used (por ejemplo, valores negativos)\n",
    "anomalous_data_usage = internet_df[internet_df['mb_used'] < 0]\n",
    "print(\"Uso de datos anómalo encontrado:\")\n",
    "print(anomalous_data_usage)\n",
    "\n",
    "# Si es necesario, eliminar los valores anómalos\n",
    "internet_df = internet_df[internet_df['mb_used'] >= 0]\n",
    "\n",
    "# Verificar los cambios\n",
    "print(internet_df.info())"
   ]
  },
  {
   "cell_type": "markdown",
   "metadata": {
    "id": "e8_mLF4a0q1E"
   },
   "source": [
    "### Enriquecer los datos"
   ]
  },
  {
   "cell_type": "markdown",
   "metadata": {
    "id": "xhNdn2tE0q1E"
   },
   "source": [
    "Para enriquecer los datos de uso de internet, se debe calcular el total de megabytes usados por cada usuario en cada mes. Luego, se convierte este total mensual a gigabytes, y se redondea hacia arriba para reflejar cómo se cobran los datos en el plan de tarifas. También se puede agregar una columna que indique el mes en que se realizó cada sesión de internet, lo que podría ser útil para análisis estacionales o temporales. Este enfoque asegura que los análisis futuros sean precisos y se alineen con las políticas de facturación establecidas."
   ]
  },
  {
   "cell_type": "code",
   "execution_count": 25,
   "metadata": {
    "id": "ESiYPIEK0q1E",
    "scrolled": true
   },
   "outputs": [
    {
     "name": "stdout",
     "output_type": "stream",
     "text": [
      "   user_id  session_month   mb_used  total_gb_used  rounded_gb_used\n",
      "0     1000             12   1901.47       1.856904              2.0\n",
      "1     1001              8   6919.15       6.756982              7.0\n",
      "2     1001              9  13314.82      13.002754             14.0\n",
      "3     1001             10  22330.49      21.807119             22.0\n",
      "4     1001             11  18504.30      18.070605             19.0\n"
     ]
    }
   ],
   "source": [
    "# Agregar la columna session_month exista en el DataFrame\n",
    "internet_df['session_month'] = internet_df['session_date'].dt.month\n",
    "\n",
    "# Sumar los megabytes usados por cada usuario en cada mes\n",
    "internet_df = internet_df.groupby(['user_id', 'session_month'])['mb_used'].sum().reset_index()\n",
    "\n",
    "# Convertir los megabytes totales del mes a gigabytes\n",
    "internet_df['total_gb_used'] = internet_df['mb_used'] / 1024\n",
    "\n",
    "# Redondear hacia arriba el uso total de gigabytes por mes\n",
    "internet_df['rounded_gb_used'] = np.ceil(internet_df['total_gb_used'])\n",
    "\n",
    "# Verificar los cambios\n",
    "print(internet_df.head())\n"
   ]
  },
  {
   "cell_type": "markdown",
   "metadata": {
    "id": "3UA2cqIW0q1E"
   },
   "source": [
    "## Estudiar las condiciones de las tarifas"
   ]
  },
  {
   "cell_type": "code",
   "execution_count": 26,
   "metadata": {
    "id": "i409op8p0q1F"
   },
   "outputs": [
    {
     "name": "stdout",
     "output_type": "stream",
     "text": [
      "   messages_included  mb_per_month_included  minutes_included  \\\n",
      "0                 50                  15360               500   \n",
      "1               1000                  30720              3000   \n",
      "\n",
      "   usd_monthly_pay  usd_per_gb  usd_per_message  usd_per_minute plan_name  \n",
      "0               20          10             0.03            0.03      surf  \n",
      "1               70           7             0.01            0.01  ultimate  \n",
      "\n",
      "Detalles del plan: surf\n",
      "   messages_included  mb_per_month_included  minutes_included  \\\n",
      "0                 50                  15360               500   \n",
      "\n",
      "   usd_monthly_pay  usd_per_gb  usd_per_message  usd_per_minute plan_name  \n",
      "0               20          10             0.03            0.03      surf  \n",
      "\n",
      "Detalles del plan: ultimate\n",
      "   messages_included  mb_per_month_included  minutes_included  \\\n",
      "1               1000                  30720              3000   \n",
      "\n",
      "   usd_monthly_pay  usd_per_gb  usd_per_message  usd_per_minute plan_name  \n",
      "1               70           7             0.01            0.01  ultimate  \n"
     ]
    }
   ],
   "source": [
    "# Imprime las condiciones de la tarifa y asegúrate de que te quedan claras\n",
    "# Imprime la información general sobre las tarifas\n",
    "print(plans_df)\n",
    "\n",
    "# Imprime detalles específicos de cada tarifa\n",
    "for plan in plans_df['plan_name']:\n",
    "    print(f\"\\nDetalles del plan: {plan}\")\n",
    "    print(plans_df[plans_df['plan_name'] == plan])"
   ]
  },
  {
   "cell_type": "markdown",
   "metadata": {
    "id": "hMR1tP5d0q1F"
   },
   "source": [
    "## Agregar datos por usuario\n"
   ]
  },
  {
   "cell_type": "code",
   "execution_count": null,
   "metadata": {
    "id": "A332cedB0q1G"
   },
   "outputs": [
    {
     "name": "stdout",
     "output_type": "stream",
     "text": [
      "   user_id  month  calls_made\n",
      "0     1000     12          16\n",
      "1     1001      8          22\n",
      "2     1001      9          38\n",
      "3     1001     10          47\n",
      "4     1001     11          49\n"
     ]
    }
   ],
   "source": [
    "# Calcular el número de llamadas hechas por cada usuario al mes\n",
    "calls_per_month = calls_df.groupby(['user_id', calls_df['call_date'].dt.month])['id'].count().reset_index()\n",
    "calls_per_month.columns = ['user_id', 'month', 'calls_made']\n",
    "\n",
    "# Verificar los resultados\n",
    "print(calls_per_month.head())"
   ]
  },
  {
   "cell_type": "code",
   "execution_count": null,
   "metadata": {
    "id": "aw2cmuql0q1G"
   },
   "outputs": [
    {
     "name": "stdout",
     "output_type": "stream",
     "text": [
      "   user_id  month  minutes_used\n",
      "0     1000     12           124\n",
      "1     1001      8           182\n",
      "2     1001      9           315\n",
      "3     1001     10           393\n",
      "4     1001     11           426\n"
     ]
    }
   ],
   "source": [
    "# Calcular la cantidad de minutos usados por cada usuario al mes\n",
    "minutes_per_month = calls_df.groupby(['user_id', calls_df['call_date'].dt.month])['rounded_duration'].sum().reset_index()\n",
    "minutes_per_month.columns = ['user_id', 'month', 'minutes_used']\n",
    "\n",
    "# Verificar los resultados\n",
    "print(minutes_per_month.head())"
   ]
  },
  {
   "cell_type": "code",
   "execution_count": null,
   "metadata": {
    "id": "CcQvNHn60q1G"
   },
   "outputs": [
    {
     "name": "stdout",
     "output_type": "stream",
     "text": [
      "   user_id  month  messages_sent\n",
      "0     1000     12             11\n",
      "1     1001      8             30\n",
      "2     1001      9             44\n",
      "3     1001     10             53\n",
      "4     1001     11             36\n"
     ]
    }
   ],
   "source": [
    "# Calcular el número de mensajes enviados por cada usuario al mes\n",
    "messages_per_month = messages_df.groupby(['user_id', messages_df['message_date'].dt.month])['id'].count().reset_index()\n",
    "messages_per_month.columns = ['user_id', 'month', 'messages_sent']\n",
    "\n",
    "# Verificar los resultados\n",
    "print(messages_per_month.head())"
   ]
  },
  {
   "cell_type": "code",
   "execution_count": null,
   "metadata": {
    "id": "H1AqN2eG0q1H"
   },
   "outputs": [
    {
     "name": "stdout",
     "output_type": "stream",
     "text": [
      "   user_id  month  gb_used\n",
      "0     1000     12      2.0\n",
      "1     1001      8      7.0\n",
      "2     1001      9     14.0\n",
      "3     1001     10     22.0\n",
      "4     1001     11     19.0\n"
     ]
    }
   ],
   "source": [
    "# Calcular el volumen del tráfico de Internet usado por cada usuario al mes\n",
    "internet_per_month = internet_df.groupby(['user_id', 'session_month'])['rounded_gb_used'].sum().reset_index()\n",
    "internet_per_month.columns = ['user_id', 'month', 'gb_used']\n",
    "\n",
    "# Verificar los resultados\n",
    "print(internet_per_month.head())"
   ]
  },
  {
   "cell_type": "code",
   "execution_count": 31,
   "metadata": {},
   "outputs": [
    {
     "name": "stdout",
     "output_type": "stream",
     "text": [
      "   user_id  month  calls_made  minutes_used  messages_sent  gb_used\n",
      "0     1000     12        16.0         124.0           11.0      2.0\n",
      "1     1001      8        22.0         182.0           30.0      7.0\n",
      "2     1001      9        38.0         315.0           44.0     14.0\n",
      "3     1001     10        47.0         393.0           53.0     22.0\n",
      "4     1001     11        49.0         426.0           36.0     19.0\n"
     ]
    }
   ],
   "source": [
    "# Unir todos los DataFrames en uno solo\n",
    "user_data = calls_per_month.merge(minutes_per_month, on=['user_id', 'month'], how='outer')\n",
    "user_data = user_data.merge(messages_per_month, on=['user_id', 'month'], how='outer')\n",
    "user_data = user_data.merge(internet_per_month, on=['user_id', 'month'], how='outer')\n",
    "\n",
    "# Llenar NaN con 0, ya que la ausencia de datos significa que no hubo actividad\n",
    "user_data = user_data.fillna(0)\n",
    "\n",
    "# Verificar el DataFrame final\n",
    "print(user_data.head())\n"
   ]
  },
  {
   "cell_type": "code",
   "execution_count": 32,
   "metadata": {
    "id": "FW99ykyf0q1H"
   },
   "outputs": [
    {
     "name": "stdout",
     "output_type": "stream",
     "text": [
      "   user_id  month  calls_made  minutes_used  messages_sent  gb_used      plan\n",
      "0     1000     12        16.0         124.0           11.0      2.0  ultimate\n",
      "1     1001      8        22.0         182.0           30.0      7.0      surf\n",
      "2     1001      9        38.0         315.0           44.0     14.0      surf\n",
      "3     1001     10        47.0         393.0           53.0     22.0      surf\n",
      "4     1001     11        49.0         426.0           36.0     19.0      surf\n"
     ]
    }
   ],
   "source": [
    "# Fusiona los datos de llamadas, minutos, mensajes e Internet con base en user_id y month\n",
    "# Fusionar user_data con users_df para agregar la información de la tarifa\n",
    "user_data_with_plan = user_data.merge(users_df[['user_id', 'plan']], on='user_id', how='left')\n",
    "\n",
    "# Verificar el resultado\n",
    "print(user_data_with_plan.head())"
   ]
  },
  {
   "cell_type": "code",
   "execution_count": null,
   "metadata": {
    "id": "0dNOXHag0q1H"
   },
   "outputs": [
    {
     "name": "stdout",
     "output_type": "stream",
     "text": [
      "   user_id  month  calls_made  minutes_used  messages_sent  gb_used      plan  \\\n",
      "0     1000     12        16.0         124.0           11.0      2.0  ultimate   \n",
      "1     1001      8        22.0         182.0           30.0      7.0      surf   \n",
      "2     1001      9        38.0         315.0           44.0     14.0      surf   \n",
      "3     1001     10        47.0         393.0           53.0     22.0      surf   \n",
      "4     1001     11        49.0         426.0           36.0     19.0      surf   \n",
      "\n",
      "   messages_included  mb_per_month_included  minutes_included  \\\n",
      "0               1000                  30720              3000   \n",
      "1                 50                  15360               500   \n",
      "2                 50                  15360               500   \n",
      "3                 50                  15360               500   \n",
      "4                 50                  15360               500   \n",
      "\n",
      "   usd_monthly_pay  usd_per_gb  usd_per_message  usd_per_minute plan_name  \n",
      "0               70           7             0.01            0.01  ultimate  \n",
      "1               20          10             0.03            0.03      surf  \n",
      "2               20          10             0.03            0.03      surf  \n",
      "3               20          10             0.03            0.03      surf  \n",
      "4               20          10             0.03            0.03      surf  \n"
     ]
    }
   ],
   "source": [
    "# Fusionar user_data_with_plan con plans_df para añadir detalles de la tarifa\n",
    "final_data = user_data_with_plan.merge(plans_df, left_on='plan', right_on='plan_name', how='left')\n",
    "\n",
    "# Verificar el resultado\n",
    "print(final_data.head())"
   ]
  },
  {
   "cell_type": "markdown",
   "metadata": {
    "id": "1IwGo4wg0q1I"
   },
   "source": [
    "Primero, para cada usuario, calcularemos si ha excedido los límites de minutos, mensajes y datos, y en caso afirmativo, determinaremos los cargos adicionales. Una vez que tengamos los excesos, multiplicaremos por las tarifas correspondientes. Sumaremos los cargos adicionales con la tarifa mensual base para obtener el ingreso total mensual de cada usuario."
   ]
  },
  {
   "cell_type": "code",
   "execution_count": 34,
   "metadata": {
    "id": "5FGCf_c60q1I"
   },
   "outputs": [
    {
     "name": "stdout",
     "output_type": "stream",
     "text": [
      "   user_id  month  extra_minutes  extra_messages  extra_gb\n",
      "0     1000     12            0.0             0.0       0.0\n",
      "1     1001      8            0.0             0.0       0.0\n",
      "2     1001      9            0.0             0.0       0.0\n",
      "3     1001     10            0.0             3.0       7.0\n",
      "4     1001     11            0.0             0.0       4.0\n"
     ]
    }
   ],
   "source": [
    "# Calcular el exceso de minutos, mensajes y datos\n",
    "final_data['extra_minutes'] = final_data['minutes_used'] - final_data['minutes_included']\n",
    "final_data['extra_messages'] = final_data['messages_sent'] - final_data['messages_included']\n",
    "final_data['extra_gb'] = final_data['gb_used'] - (final_data['mb_per_month_included'] / 1024)\n",
    "\n",
    "# Asegurarnos de que los valores negativos se conviertan en 0, ya que no hay cargos adicionales si no exceden los límites\n",
    "final_data['extra_minutes'] = final_data['extra_minutes'].apply(lambda x: max(x, 0))\n",
    "final_data['extra_messages'] = final_data['extra_messages'].apply(lambda x: max(x, 0))\n",
    "final_data['extra_gb'] = final_data['extra_gb'].apply(lambda x: max(x, 0))\n",
    "\n",
    "# Verificar los resultados intermedios\n",
    "print(final_data[['user_id', 'month', 'extra_minutes', 'extra_messages', 'extra_gb']].head())\n"
   ]
  },
  {
   "cell_type": "code",
   "execution_count": 35,
   "metadata": {},
   "outputs": [
    {
     "name": "stdout",
     "output_type": "stream",
     "text": [
      "   user_id  month  extra_charge_minutes  extra_charge_messages  \\\n",
      "0     1000     12                   0.0                   0.00   \n",
      "1     1001      8                   0.0                   0.00   \n",
      "2     1001      9                   0.0                   0.00   \n",
      "3     1001     10                   0.0                   0.09   \n",
      "4     1001     11                   0.0                   0.00   \n",
      "\n",
      "   extra_charge_gb  \n",
      "0              0.0  \n",
      "1              0.0  \n",
      "2              0.0  \n",
      "3             70.0  \n",
      "4             40.0  \n"
     ]
    }
   ],
   "source": [
    "# Calcular los cargos adicionales\n",
    "final_data['extra_charge_minutes'] = final_data['extra_minutes'] * final_data['usd_per_minute']\n",
    "final_data['extra_charge_messages'] = final_data['extra_messages'] * final_data['usd_per_message']\n",
    "final_data['extra_charge_gb'] = final_data['extra_gb'] * final_data['usd_per_gb']\n",
    "\n",
    "# Verificar los cargos adicionales\n",
    "print(final_data[['user_id', 'month', 'extra_charge_minutes', 'extra_charge_messages', 'extra_charge_gb']].head())\n"
   ]
  },
  {
   "cell_type": "code",
   "execution_count": 36,
   "metadata": {},
   "outputs": [
    {
     "name": "stdout",
     "output_type": "stream",
     "text": [
      "   user_id  month  monthly_revenue\n",
      "0     1000     12            70.00\n",
      "1     1001      8            20.00\n",
      "2     1001      9            20.00\n",
      "3     1001     10            90.09\n",
      "4     1001     11            60.00\n"
     ]
    }
   ],
   "source": [
    "# Calcular el ingreso mensual total\n",
    "final_data['monthly_revenue'] = final_data['usd_monthly_pay'] + final_data['extra_charge_minutes'] + final_data['extra_charge_messages'] + final_data['extra_charge_gb']\n",
    "\n",
    "# Verificar el ingreso mensual calculado\n",
    "print(final_data[['user_id', 'month', 'monthly_revenue']].head())\n"
   ]
  },
  {
   "cell_type": "markdown",
   "metadata": {
    "id": "-jtyHzJb0q1I"
   },
   "source": [
    "## Estudia el comportamiento de usuario"
   ]
  },
  {
   "cell_type": "markdown",
   "metadata": {
    "id": "vtW4CJEe0q1J"
   },
   "source": [
    "### Llamadas"
   ]
  },
  {
   "cell_type": "code",
   "execution_count": 37,
   "metadata": {
    "id": "Jf5v5--k0q1J"
   },
   "outputs": [
    {
     "data": {
      "image/png": "[encoded data removed]",
      "text/plain": [
       "<Figure size 1000x600 with 1 Axes>"
      ]
     },
     "metadata": {},
     "output_type": "display_data"
    }
   ],
   "source": [
    "# Compara la duración promedio de llamadas por cada plan y por cada mes. Traza un gráfico de barras para visualizarla.\n",
    "import matplotlib.pyplot as plt\n",
    "\n",
    "# Calcular la duración promedio de llamadas por plan y mes\n",
    "average_call_duration = final_data.groupby(['month', 'plan'])['minutes_used'].mean().unstack()\n",
    "\n",
    "# Graficar la duración promedio de llamadas usando el método plot del DataFrame\n",
    "average_call_duration.plot(kind='bar', figsize=(10, 6))\n",
    "\n",
    "plt.title('Duración promedio de llamadas por plan y mes')\n",
    "plt.xlabel('Mes')\n",
    "plt.ylabel('Duración promedio de llamadas (minutos)')\n",
    "plt.legend(title='Plan')\n",
    "plt.show()\n",
    "\n"
   ]
  },
  {
   "cell_type": "code",
   "execution_count": null,
   "metadata": {
    "id": "QoLqW1S_0q1J"
   },
   "outputs": [
    {
     "data": {
      "image/png": "[encoded data removed]",
      "text/plain": [
       "<Figure size 1000x600 with 1 Axes>"
      ]
     },
     "metadata": {},
     "output_type": "display_data"
    }
   ],
   "source": [
    "# Graficar el histograma del número de minutos mensuales por plan\n",
    "plt.figure(figsize=(10, 6))\n",
    "for plan in final_data['plan'].unique():\n",
    "    plt.hist(final_data[final_data['plan'] == plan]['minutes_used'], bins=20, alpha=0.5, label=plan)\n",
    "\n",
    "plt.title('Distribución de minutos mensuales usados por plan')\n",
    "plt.xlabel('Minutos usados')\n",
    "plt.ylabel('Frecuencia')\n",
    "plt.legend(title='Plan')\n",
    "plt.show()\n"
   ]
  },
  {
   "cell_type": "code",
   "execution_count": null,
   "metadata": {
    "id": "oSndbAnt0q1K"
   },
   "outputs": [
    {
     "name": "stdout",
     "output_type": "stream",
     "text": [
      "       plan        mean           var\n",
      "0      surf  428.749523  54968.279461\n",
      "1  ultimate  430.450000  57844.464812\n"
     ]
    }
   ],
   "source": [
    "# Calcular la media y la varianza de la duración mensual de llamadas por plan\n",
    "call_duration_stats = final_data.groupby('plan')['minutes_used'].agg(['mean', 'var']).reset_index()\n",
    "\n",
    "# Verificar los resultados\n",
    "print(call_duration_stats)"
   ]
  },
  {
   "cell_type": "code",
   "execution_count": 40,
   "metadata": {
    "id": "nZzoRUKc0q1K"
   },
   "outputs": [
    {
     "data": {
      "image/png": "[encoded data removed]",
      "text/plain": [
       "<Figure size 1000x600 with 1 Axes>"
      ]
     },
     "metadata": {},
     "output_type": "display_data"
    }
   ],
   "source": [
    "# Traza un diagrama de caja para visualizar la distribución de la duración mensual de llamadas\n",
    "import matplotlib.pyplot as plt\n",
    "\n",
    "# Crear un diagrama de caja para la duración mensual de llamadas por plan\n",
    "plt.figure(figsize=(10, 6))\n",
    "\n",
    "# Usar boxplot de matplotlib\n",
    "plans = final_data['plan'].unique()\n",
    "data_to_plot = [final_data[final_data['plan'] == plan]['minutes_used'] for plan in plans]\n",
    "\n",
    "plt.boxplot(data_to_plot, labels=plans)\n",
    "\n",
    "plt.title('Distribución de la duración mensual de llamadas por plan')\n",
    "plt.xlabel('Plan')\n",
    "plt.ylabel('Minutos usados')\n",
    "plt.grid(True)\n",
    "plt.show()\n",
    "\n"
   ]
  },
  {
   "cell_type": "markdown",
   "metadata": {
    "id": "r627zBO50q1K"
   },
   "source": [
    "Al analizar los gráficos y estadísticas obtenidas, podemos observar lo siguiente:\n",
    "\n",
    "Duración promedio de llamadas:\n",
    "\n",
    "- La duración promedio de las llamadas mensuales no muestra una diferencia significativa entre los planes Surf y Ultimate. Ambos planes tienen una duración promedio cercana a los 430 minutos, lo que sugiere que, en promedio, los usuarios de ambos planes utilizan un tiempo similar para realizar sus llamadas.\n",
    "\n",
    "Varianza de la duración de las llamadas:\n",
    "\n",
    "- La varianza de la duración de las llamadas es ligeramente mayor para el plan Ultimate en comparación con el plan Surf. Esto indica que hay una mayor dispersión en la duración de las llamadas entre los usuarios del plan Ultimate, lo que podría implicar un comportamiento más variado en este grupo.\n",
    "\n",
    "Distribución de la duración de llamadas (Diagrama de caja):\n",
    "\n",
    "- El diagrama de caja muestra que la mediana de la duración de las llamadas es similar para ambos planes, pero hay más valores atípicos (outliers) en el plan Surf. Estos valores atípicos representan usuarios que realizan una cantidad significativa de llamadas que exceden la duración promedio.\n",
    "- Ambos planes tienen usuarios que hacen un uso intensivo de las llamadas, pero este comportamiento es más pronunciado en el plan Surf, como lo indican los outliers.\n",
    "\n",
    "Conclusión final:\n",
    "\n",
    "El comportamiento de los usuarios en cuanto a la duración de las llamadas no varía drásticamente en función del plan que eligen. Ambos planes tienen una duración promedio de llamadas similar, aunque el plan Surf muestra una mayor cantidad de usuarios que exceden la duración promedio, sugiriendo que algunos usuarios del plan Surf podrían estar utilizando sus llamadas de manera más intensiva.\n",
    "\n",
    "Este análisis podría indicar que los factores que influyen en la elección del plan no están estrictamente relacionados con la duración de las llamadas, sino posiblemente con otros servicios como mensajes o datos. Sin embargo, ambos planes parecen atender de manera eficiente las necesidades de la mayoría de los usuarios en términos de duración de llamadas."
   ]
  },
  {
   "cell_type": "markdown",
   "metadata": {
    "id": "8idKy8Wh0q1L"
   },
   "source": [
    "### Mensajes"
   ]
  },
  {
   "cell_type": "code",
   "execution_count": 41,
   "metadata": {
    "id": "NXLxiTit0q1L"
   },
   "outputs": [
    {
     "name": "stdout",
     "output_type": "stream",
     "text": [
      "       plan       mean          var\n",
      "0      surf  31.159568  1126.724522\n",
      "1  ultimate  37.551389  1208.756744\n"
     ]
    },
    {
     "data": {
      "image/png": "[encoded data removed]",
      "text/plain": [
       "<Figure size 1000x600 with 1 Axes>"
      ]
     },
     "metadata": {},
     "output_type": "display_data"
    }
   ],
   "source": [
    "# Comprara el número de mensajes que tienden a enviar cada mes los usuarios de cada plan\n",
    "import matplotlib.pyplot as plt\n",
    "\n",
    "# Calcular la media y la varianza del número de mensajes enviados por plan\n",
    "message_stats = final_data.groupby('plan')['messages_sent'].agg(['mean', 'var']).reset_index()\n",
    "\n",
    "# Verificar los resultados\n",
    "print(message_stats)\n",
    "\n",
    "# Crear un diagrama de caja para la cantidad de mensajes enviados por plan\n",
    "plt.figure(figsize=(10, 6))\n",
    "plans = final_data['plan'].unique()\n",
    "data_to_plot = [final_data[final_data['plan'] == plan]['messages_sent'] for plan in plans]\n",
    "\n",
    "plt.boxplot(data_to_plot, labels=plans)\n",
    "plt.title('Distribución de mensajes enviados por mes por plan')\n",
    "plt.xlabel('Plan')\n",
    "plt.ylabel('Mensajes enviados')\n",
    "plt.grid(True)\n",
    "plt.show()"
   ]
  },
  {
   "cell_type": "code",
   "execution_count": null,
   "metadata": {
    "id": "GRI_R7xF0q1L"
   },
   "outputs": [
    {
     "name": "stdout",
     "output_type": "stream",
     "text": [
      "       plan       mean       var\n",
      "0      surf  16.670693  61.58360\n",
      "1  ultimate  17.306944  58.83055\n"
     ]
    },
    {
     "data": {
      "image/png": "[encoded data removed]",
      "text/plain": [
       "<Figure size 1000x600 with 1 Axes>"
      ]
     },
     "metadata": {},
     "output_type": "display_data"
    }
   ],
   "source": [
    "# Calcular la media y la varianza del tráfico de Internet por plan\n",
    "internet_stats = final_data.groupby('plan')['gb_used'].agg(['mean', 'var']).reset_index()\n",
    "\n",
    "# Verificar los resultados\n",
    "print(internet_stats)\n",
    "\n",
    "# Crear un diagrama de caja para la cantidad de tráfico de Internet por plan\n",
    "plt.figure(figsize=(10, 6))\n",
    "data_to_plot = [final_data[final_data['plan'] == plan]['gb_used'] for plan in plans]\n",
    "\n",
    "plt.boxplot(data_to_plot, labels=plans)\n",
    "plt.title('Distribución de tráfico de internet usado por mes por plan')\n",
    "plt.xlabel('Plan')\n",
    "plt.ylabel('GB Usados')\n",
    "plt.grid(True)\n",
    "plt.show()"
   ]
  },
  {
   "cell_type": "code",
   "execution_count": null,
   "metadata": {
    "id": "dtFwCGAp0q1M"
   },
   "outputs": [],
   "source": []
  },
  {
   "cell_type": "markdown",
   "metadata": {
    "id": "390SSL480q1M"
   },
   "source": [
    "Estas son las conclusiones sobre el comportamiento de los usuarios con respecto a los mensajes y el uso de Internet\n",
    "\n",
    "Mensajes:\n",
    "\n",
    "- Duración promedio de mensajes enviados:\n",
    "\n",
    "La media del número de mensajes enviados es ligeramente mayor para el plan Ultimate (37.55 mensajes por mes) en comparación con el plan Surf (31.16 mensajes por mes). Sin embargo, la diferencia no es muy significativa.\n",
    "\n",
    "- Varianza de mensajes enviados:\n",
    "\n",
    "La varianza es bastante alta para ambos planes, lo que indica una gran variabilidad en la cantidad de mensajes enviados entre los usuarios. Esto sugiere que, aunque el promedio de mensajes enviados es similar, algunos usuarios envían muchos más mensajes que otros, especialmente en el plan Surf, donde se observan más outliers en el diagrama de caja.\n",
    "\n",
    "Distribución de mensajes enviados (Diagrama de caja):\n",
    "\n",
    "Ambos planes muestran una distribución similar con un rango intercuartil que sugiere que la mayoría de los usuarios envían menos de 50 mensajes por mes. Sin embargo, el plan Surf tiene más outliers, indicando que algunos usuarios envían un número de mensajes considerablemente mayor que la media.\n",
    "\n",
    "Tráfico de internet:\n",
    "\n",
    "- Promedio de tráfico de internet usado:\n",
    "\n",
    "El tráfico de Internet utilizado es bastante similar entre los planes Surf y Ultimate, con medias de 40.14 GB y 41.08 GB, respectivamente. Esto sugiere que el consumo de datos no varía mucho en función del plan elegido.\n",
    "Varianza del Uso de Internet:\n",
    "\n",
    "La varianza en el uso de Internet es ligeramente mayor para el plan Surf, lo que indica una mayor dispersión en el uso de datos entre sus usuarios en comparación con los del plan Ultimate.\n",
    "\n",
    "- Distribución del tráfico de internet usado (Diagrama de caja):\n",
    "\n",
    "El diagrama de caja muestra que la mayoría de los usuarios de ambos planes utilizan entre 30 y 50 GB de datos por mes, con algunos usuarios del plan Surf que exceden considerablemente esta cantidad. Los outliers en ambos planes indican que hay usuarios que consumen mucho más que la media.\n",
    "\n",
    "Conclusión final:\n",
    "\n",
    "El comportamiento de los usuarios con respecto al envío de mensajes y el uso de Internet muestra algunas diferencias en función del plan elegido, pero no son particularmente significativas.\n",
    "\n",
    "- Mensajes: Aunque el plan Ultimate tiene una media ligeramente mayor de mensajes enviados, ambos planes muestran una gran variabilidad en el uso, con varios usuarios del plan Surf que envían muchos más mensajes que la mayoría.\n",
    "\n",
    "- Internet: El uso de Internet es sorprendentemente similar entre los planes, con una distribución de consumo de datos que se alinea bastante entre Surf y Ultimate. Sin embargo, los usuarios del plan Surf parecen tener una mayor variabilidad en su consumo, lo que sugiere que este plan podría atraer a usuarios con necesidades de datos más diversas."
   ]
  },
  {
   "cell_type": "markdown",
   "metadata": {
    "id": "42YSypXz0q1M"
   },
   "source": [
    "### Internet"
   ]
  },
  {
   "cell_type": "code",
   "execution_count": 43,
   "metadata": {
    "id": "lSuKPtjh0q1M"
   },
   "outputs": [
    {
     "name": "stdout",
     "output_type": "stream",
     "text": [
      "       plan       mean       var\n",
      "0      surf  16.670693  61.58360\n",
      "1  ultimate  17.306944  58.83055\n"
     ]
    }
   ],
   "source": [
    "# Calcular la media y la varianza del tráfico de Internet por plan\n",
    "internet_stats = final_data.groupby('plan')['gb_used'].agg(['mean', 'var']).reset_index()\n",
    "\n",
    "# Verificar los resultados\n",
    "print(internet_stats)"
   ]
  },
  {
   "cell_type": "code",
   "execution_count": 44,
   "metadata": {
    "id": "wnh8jYXi0q1N"
   },
   "outputs": [
    {
     "data": {
      "image/png": "[encoded data removed]",
      "text/plain": [
       "<Figure size 1000x600 with 1 Axes>"
      ]
     },
     "metadata": {},
     "output_type": "display_data"
    }
   ],
   "source": [
    "# Crear un diagrama de caja para la cantidad de tráfico de Internet por plan\n",
    "plt.figure(figsize=(10, 6))\n",
    "plans = final_data['plan'].unique()\n",
    "data_to_plot = [final_data[final_data['plan'] == plan]['gb_used'] for plan in plans]\n",
    "\n",
    "plt.boxplot(data_to_plot, labels=plans)\n",
    "plt.title('Distribución de tráfico de internet usado por mes por plan')\n",
    "plt.xlabel('Plan')\n",
    "plt.ylabel('GB Usados')\n",
    "plt.grid(True)\n",
    "plt.show()"
   ]
  },
  {
   "cell_type": "code",
   "execution_count": null,
   "metadata": {
    "id": "5VlyJ9ry0q1N"
   },
   "outputs": [],
   "source": []
  },
  {
   "cell_type": "markdown",
   "metadata": {
    "id": "UN9zwuMP0q1N"
   },
   "source": [
    "Conclusiones sobre el consumo de tráfico de internet\n",
    "\n",
    "Con base en los nuevos resultados obtenidos, las conclusiones sobre el consumo de tráfico de internet son las siguientes:\n",
    "\n",
    "Promedio de tráfico de internet utilizado: \n",
    "\n",
    "La media del tráfico de internet es bastante similar entre los planes surf y ultimate, con un uso promedio de 16.67 GB para surf y 17.31 GB para ultimate. Esto sugiere que, en general, los usuarios de ambos planes consumen cantidades similares de datos, independientemente del plan al que estén suscritos.\n",
    "\n",
    "Varianza del uso de internet: \n",
    "\n",
    "La varianza del uso de internet es mayor para el plan surf (61.54) en comparación con ultimate (58.83). Esto indica una mayor dispersión en el uso de datos entre los usuarios del plan surf, lo que implica que hay una mayor diversidad en los patrones de consumo de datos dentro de este grupo.\n",
    "\n",
    "Distribución del tráfico de internet (diagrama de caja): \n",
    "\n",
    "El diagrama de caja muestra que, aunque las medianas de uso de internet son bastante similares entre los dos planes, el plan surf tiene una mayor cantidad de usuarios que se encuentran en los extremos superiores de consumo, como lo indican los outliers. Esto sugiere que, aunque la mayoría de los usuarios de ambos planes utilizan cantidades moderadas de datos, algunos usuarios del plan surf tienden a utilizar significativamente más datos, lo que podría estar relacionado con comportamientos de consumo específicos o con características del plan que fomentan un uso intensivo.\n",
    "\n",
    "En resumen, aunque los usuarios de ambos planes consumen cantidades similares de datos en promedio, los usuarios del plan surf muestran una mayor variabilidad en su uso de internet, con un grupo de usuarios que consume considerablemente más datos. Este comportamiento sugiere que el plan surf podría atraer a usuarios con necesidades más diversas o específicas en cuanto al consumo de datos."
   ]
  },
  {
   "cell_type": "markdown",
   "metadata": {
    "id": "tCijq3260q1N"
   },
   "source": [
    "## Ingreso"
   ]
  },
  {
   "cell_type": "code",
   "execution_count": 45,
   "metadata": {
    "id": "tz-dq_V00q1O"
   },
   "outputs": [
    {
     "name": "stdout",
     "output_type": "stream",
     "text": [
      "       plan       mean          var\n",
      "0      surf  60.706408  3067.835152\n",
      "1  ultimate  72.313889   129.848486\n"
     ]
    }
   ],
   "source": [
    "income_stats = final_data.groupby('plan')['monthly_revenue'].agg(['mean', 'var']).reset_index()\n",
    "\n",
    "# Verificar los resultados\n",
    "print(income_stats)"
   ]
  },
  {
   "cell_type": "code",
   "execution_count": 46,
   "metadata": {
    "id": "0Y1v8ZUz0q1P"
   },
   "outputs": [
    {
     "data": {
      "image/png": "[encoded data removed]",
      "text/plain": [
       "<Figure size 1000x600 with 1 Axes>"
      ]
     },
     "metadata": {},
     "output_type": "display_data"
    }
   ],
   "source": [
    "plt.figure(figsize=(10, 6))\n",
    "plans = final_data['plan'].unique()\n",
    "data_to_plot = [final_data[final_data['plan'] == plan]['monthly_revenue'] for plan in plans]\n",
    "\n",
    "plt.boxplot(data_to_plot, labels=plans)\n",
    "plt.title('Distribución de ingresos mensuales por plan')\n",
    "plt.xlabel('Plan')\n",
    "plt.ylabel('Ingresos mensuales (USD)')\n",
    "plt.grid(True)\n",
    "plt.show()"
   ]
  },
  {
   "cell_type": "code",
   "execution_count": 47,
   "metadata": {
    "id": "bYmwxyVh0q1P"
   },
   "outputs": [
    {
     "data": {
      "image/png": "[encoded data removed]",
      "text/plain": [
       "<Figure size 1000x600 with 1 Axes>"
      ]
     },
     "metadata": {},
     "output_type": "display_data"
    }
   ],
   "source": [
    "plt.figure(figsize=(10, 6))\n",
    "plt.hist([final_data[final_data['plan'] == plan]['monthly_revenue'] for plan in plans], bins=30, stacked=True, label=plans, color=['skyblue', 'orange'])\n",
    "plt.title('Distribución de ingresos mensuales por plan')\n",
    "plt.xlabel('Ingresos mensuales (USD)')\n",
    "plt.ylabel('Número de usuarios')\n",
    "plt.legend(title='Plan')\n",
    "plt.grid(True)\n",
    "plt.show()\n"
   ]
  },
  {
   "cell_type": "markdown",
   "metadata": {
    "id": "KAFidcXZ0q1P"
   },
   "source": [
    "A partir de los gráficos y estadísticas obtenidas, se puede llegar a las siguientes conclusiones sobre los ingresos mensuales por plan:\n",
    "\n",
    "Ingreso promedio:\n",
    "\n",
    "El ingreso promedio es notablemente más alto para el plan Ultimate en comparación con el plan Surf. Esto se debe a la estructura de precios más elevada del plan Ultimate, que incluye un pago mensual base mayor.\n",
    "Sin embargo, aunque el plan Surf tiene un ingreso promedio menor, la distribución de ingresos muestra que algunos usuarios pueden generar ingresos significativamente más altos debido a los cargos adicionales por exceder los límites del plan.\n",
    "\n",
    "Varianza en los ingresos:\n",
    "\n",
    "La varianza de los ingresos es mucho mayor para el plan Surf en comparación con el plan Ultimate. Esto indica que los ingresos derivados de los usuarios del plan Surf son mucho más variables y están influenciados en gran medida por el consumo adicional de servicios como minutos, mensajes y datos. En contraste, los ingresos del plan Ultimate son más consistentes, con una menor dispersión.\n",
    "\n",
    "Distribución de ingresos:\n",
    "\n",
    "La mayoría de los usuarios del plan Surf generan ingresos más bajos, pero con una amplia dispersión que incluye varios valores atípicos (outliers) que indican ingresos significativamente altos debido a cargos adicionales.\n",
    "El plan Ultimate, por otro lado, muestra una distribución de ingresos más concentrada alrededor de su promedio, lo que sugiere que la mayoría de los usuarios generan ingresos similares y que estos no son tan impactados por el consumo adicional.\n",
    "\n",
    "Conclusión:\n",
    "\n",
    "Los ingresos del plan Ultimate son más estables y previsibles debido a su estructura de precios más elevada y menos dependiente de los cargos adicionales. En cambio, el plan Surf, aunque generalmente genera ingresos menores, tiene una mayor variabilidad que puede resultar en ingresos significativamente más altos en ciertos casos. Esta diferencia refleja las distintas estrategias de monetización entre los planes y cómo se comportan los usuarios dentro de cada uno."
   ]
  },
  {
   "cell_type": "markdown",
   "metadata": {
    "id": "ajJ7VKeI0q1Q"
   },
   "source": [
    "## Prueba las hipótesis estadísticas"
   ]
  },
  {
   "cell_type": "markdown",
   "metadata": {
    "id": "AdXAZ-yL0q1Q"
   },
   "source": [
    "*Ahora, probaremos la hipótesis de que son diferentes los ingresos promedio procedentes de los usuarios de los planes de llamada Ultimate y Surf:*"
   ]
  },
  {
   "cell_type": "code",
   "execution_count": 48,
   "metadata": {
    "id": "nFoPNlPq0q1R"
   },
   "outputs": [
    {
     "name": "stdout",
     "output_type": "stream",
     "text": [
      "p-value: 3.1703905481135734e-15\n",
      "Rechazamos la hipótesis nula\n"
     ]
    }
   ],
   "source": [
    "from scipy import stats as st\n",
    "\n",
    "# Nivel de significancia\n",
    "alpha = 0.05\n",
    "\n",
    "# Filtrar los datos para obtener los ingresos de cada plan\n",
    "ultimate_revenues = final_data[final_data['plan'] == 'ultimate']['monthly_revenue']\n",
    "surf_revenues = final_data[final_data['plan'] == 'surf']['monthly_revenue']\n",
    "\n",
    "# Realizar la prueba t para muestras independientes\n",
    "results = st.ttest_ind(ultimate_revenues, surf_revenues, equal_var=False)\n",
    "\n",
    "# Mostrar el valor p\n",
    "print('p-value:', results.pvalue)\n",
    "\n",
    "# Comparar el valor p con el nivel de significancia\n",
    "if results.pvalue < alpha:\n",
    "    print('Rechazamos la hipótesis nula')\n",
    "else:\n",
    "    print('No podemos rechazar la hipótesis nula')\n"
   ]
  },
  {
   "cell_type": "markdown",
   "metadata": {
    "id": "tCcAruM60q1R"
   },
   "source": [
    "*Ahora, probaremos la hipótesis de que el ingreso promedio de los usuarios del área NY-NJ es diferente al de los usuarios de otras regiones:*"
   ]
  },
  {
   "cell_type": "code",
   "execution_count": 49,
   "metadata": {
    "id": "Cqcj7wrZ0q1S"
   },
   "outputs": [
    {
     "name": "stdout",
     "output_type": "stream",
     "text": [
      "p-value: 0.03352561588530014\n",
      "Rechazamos la hipótesis nula\n"
     ]
    }
   ],
   "source": [
    "# Fusionar final_data con la tabla users para agregar la columna city\n",
    "final_data = final_data.merge(users_df[['user_id', 'city']], on='user_id', how='left')\n",
    "\n",
    "from scipy import stats as st\n",
    "\n",
    "# Nivel de significancia\n",
    "alpha = 0.05\n",
    "\n",
    "# Filtrar los datos para obtener los ingresos de los usuarios del área NY-NJ y de otras regiones\n",
    "ny_nj_revenues = final_data[final_data['city'].str.contains('NY-NJ')]['monthly_revenue']\n",
    "other_revenues = final_data[~final_data['city'].str.contains('NY-NJ')]['monthly_revenue']\n",
    "\n",
    "# Realizar la prueba t para muestras independientes\n",
    "results = st.ttest_ind(ny_nj_revenues, other_revenues, equal_var=False)\n",
    "\n",
    "# Mostrar el valor p\n",
    "print('p-value:', results.pvalue)\n",
    "\n",
    "# Comparar el valor p con el nivel de significancia\n",
    "if results.pvalue < alpha:\n",
    "    print('Rechazamos la hipótesis nula')\n",
    "else:\n",
    "    print('No podemos rechazar la hipótesis nula')"
   ]
  },
  {
   "cell_type": "markdown",
   "metadata": {
    "id": "bbTR8UQO0q1T"
   },
   "source": [
    "## Conclusión general\n",
    "\n",
    "## 2.16 conclusión general\n",
    "\n",
    "A lo largo de este análisis, se han llevado a cabo diversas etapas de limpieza, procesamiento y análisis de datos para entender mejor el comportamiento de los usuarios en relación con las llamadas, los mensajes, el uso de internet y los ingresos generados por los planes de la empresa. A continuación, se resumen las conclusiones más importantes:\n",
    "\n",
    "1. **Limpieza y procesamiento de datos**:\n",
    "   - Se realizó un ajuste clave en el cálculo del uso de internet, redondeando los gigabytes usados mensualmente en lugar de redondear los valores de cada sesión individual, lo cual era incorrecto según la política de facturación de la empresa. Este ajuste permitió obtener un cálculo más preciso de los ingresos y el comportamiento de uso de los usuarios.\n",
    "   - Los datos fueron agrupados por mes y usuario para facilitar el análisis mensual y por plan. Además, se completaron valores ausentes con ceros cuando correspondía, para asegurar que la ausencia de datos indicara falta de actividad del usuario en ese mes específico.\n",
    "\n",
    "2. **Análisis del comportamiento de los usuarios**:\n",
    "   - **Llamadas**: No se observaron diferencias significativas en la duración promedio de las llamadas entre los planes Surf y Ultimate. Aunque la duración promedio fue similar, se notó una mayor varianza en el plan Ultimate, sugiriendo un comportamiento más diverso en este grupo de usuarios.\n",
    "   - **Mensajes**: La cantidad de mensajes enviados también mostró un comportamiento similar entre los planes, con ligeras diferencias en la media y la varianza. Los usuarios del plan Surf presentaron más variabilidad, reflejando una dispersión en el uso de mensajes.\n",
    "   - **Internet**: El ajuste en el cálculo del uso de internet reveló que, en promedio, los usuarios de ambos planes consumen cantidades similares de datos. Sin embargo, el plan Surf presentó una mayor dispersión en el uso de internet, con algunos usuarios haciendo un uso intensivo de los datos.\n",
    "\n",
    "3. **Análisis de ingresos**:\n",
    "   - Los ingresos generados por los usuarios del plan Ultimate fueron, en promedio, mayores que los del plan Surf. Sin embargo, la varianza en los ingresos del plan Surf fue considerablemente mayor, indicando que algunos usuarios generan ingresos significativamente mayores que otros dentro del mismo plan.\n",
    "   - Las pruebas de hipótesis confirmaron que las diferencias en los ingresos entre los planes y entre las regiones (NY-NJ y otras) son estadísticamente significativas. Esto sugiere que el plan y la ubicación geográfica son factores que influyen en los ingresos generados por los usuarios.\n",
    "\n",
    "4. **Conclusión general**:\n",
    "   - Las diferencias observadas en el comportamiento de los usuarios y los ingresos asociados a cada plan proporcionan información valiosa para la toma de decisiones estratégicas en la empresa. Aunque ambos planes satisfacen las necesidades de los usuarios en cuanto a llamadas, mensajes y datos, el plan Ultimate parece generar ingresos más consistentes, mientras que el plan Surf atiende a un grupo de usuarios con comportamientos más diversos.\n",
    "   - Este análisis destaca la importancia de ajustar y procesar los datos correctamente, ya que pequeñas modificaciones en los cálculos pueden tener un impacto significativo en las conclusiones y decisiones finales.\n",
    "\n",
    "Este proyecto ha demostrado que un análisis detallado y cuidadoso de los datos puede ofrecer insights clave sobre el comportamiento del usuario y la rentabilidad de diferentes planes, lo que es esencial para optimizar las estrategias de la empresa.\n"
   ]
  }
 ],
 "metadata": {
  "ExecuteTimeLog": [
   {
    "duration": 828,
    "start_time": "2021-11-16T09:21:11.304Z"
   },
   {
    "duration": 893,
    "start_time": "2021-11-16T09:21:17.728Z"
   },
   {
    "duration": 1150,
    "start_time": "2021-11-16T09:21:29.568Z"
   },
   {
    "duration": 3,
    "start_time": "2021-11-16T09:24:14.495Z"
   },
   {
    "duration": 120,
    "start_time": "2021-11-16T09:24:46.630Z"
   },
   {
    "duration": 3,
    "start_time": "2021-11-16T09:28:27.882Z"
   },
   {
    "duration": 4,
    "start_time": "2021-11-16T09:29:54.281Z"
   },
   {
    "duration": 3,
    "start_time": "2021-11-16T09:30:45.936Z"
   },
   {
    "duration": 4,
    "start_time": "2021-11-16T09:31:06.300Z"
   },
   {
    "duration": 113,
    "start_time": "2021-11-16T09:31:37.208Z"
   },
   {
    "duration": 143,
    "start_time": "2021-11-16T09:31:48.656Z"
   },
   {
    "duration": 98,
    "start_time": "2021-11-16T09:31:55.678Z"
   },
   {
    "duration": 3,
    "start_time": "2021-11-16T09:32:08.535Z"
   },
   {
    "duration": 111,
    "start_time": "2021-11-16T09:32:10.120Z"
   },
   {
    "duration": 3,
    "start_time": "2021-11-16T09:32:15.732Z"
   },
   {
    "duration": 4,
    "start_time": "2021-11-16T09:32:29.423Z"
   },
   {
    "duration": 3,
    "start_time": "2021-11-16T10:03:03.074Z"
   },
   {
    "duration": 3,
    "start_time": "2021-11-16T10:10:01.288Z"
   },
   {
    "duration": 3,
    "start_time": "2021-11-16T10:10:46.923Z"
   },
   {
    "duration": 121,
    "start_time": "2021-11-16T10:37:46.494Z"
   },
   {
    "duration": 125,
    "start_time": "2021-11-16T10:38:20.632Z"
   },
   {
    "duration": 112,
    "start_time": "2021-11-16T10:46:53.001Z"
   },
   {
    "duration": 110,
    "start_time": "2021-11-16T10:48:25.775Z"
   },
   {
    "duration": 3,
    "start_time": "2021-11-16T10:50:18.720Z"
   },
   {
    "duration": 4,
    "start_time": "2021-11-16T10:50:37.649Z"
   },
   {
    "duration": 2,
    "start_time": "2021-11-16T10:50:51.884Z"
   },
   {
    "duration": 3,
    "start_time": "2021-11-16T10:51:56.237Z"
   },
   {
    "duration": 101,
    "start_time": "2021-11-16T10:53:13.791Z"
   },
   {
    "duration": 3,
    "start_time": "2021-11-16T10:55:59.186Z"
   },
   {
    "duration": 3,
    "start_time": "2021-11-16T10:56:10.751Z"
   },
   {
    "duration": 3,
    "start_time": "2021-11-16T10:56:49.038Z"
   },
   {
    "duration": 3,
    "start_time": "2021-11-16T10:56:49.174Z"
   },
   {
    "duration": 4,
    "start_time": "2021-11-16T10:56:49.414Z"
   },
   {
    "duration": 3,
    "start_time": "2021-11-16T10:56:49.680Z"
   },
   {
    "duration": 3,
    "start_time": "2021-11-16T10:56:50.370Z"
   },
   {
    "duration": 114,
    "start_time": "2021-11-16T10:59:34.518Z"
   },
   {
    "duration": 3,
    "start_time": "2021-11-16T11:01:41.201Z"
   },
   {
    "duration": 116,
    "start_time": "2021-11-16T11:01:48.754Z"
   },
   {
    "duration": 3,
    "start_time": "2021-11-16T11:02:16.685Z"
   },
   {
    "duration": 3,
    "start_time": "2021-11-16T11:02:19.479Z"
   },
   {
    "duration": 3,
    "start_time": "2021-11-16T11:02:47.067Z"
   },
   {
    "duration": 3,
    "start_time": "2021-11-16T11:02:49.353Z"
   },
   {
    "duration": 3,
    "start_time": "2021-11-16T11:03:07.835Z"
   },
   {
    "duration": 3,
    "start_time": "2021-11-16T11:03:07.953Z"
   },
   {
    "duration": 112,
    "start_time": "2021-11-16T11:07:52.072Z"
   },
   {
    "duration": 187,
    "start_time": "2021-11-16T11:09:23.468Z"
   },
   {
    "duration": 4,
    "start_time": "2021-11-16T11:10:01.455Z"
   },
   {
    "duration": 3,
    "start_time": "2021-11-16T11:10:05.069Z"
   },
   {
    "duration": 4,
    "start_time": "2021-11-16T11:10:13.376Z"
   },
   {
    "duration": 3,
    "start_time": "2021-11-16T11:10:14.434Z"
   },
   {
    "duration": 3,
    "start_time": "2021-11-16T11:10:22.853Z"
   },
   {
    "duration": 4,
    "start_time": "2021-11-16T11:27:29.279Z"
   },
   {
    "duration": 4,
    "start_time": "2021-11-16T11:29:08.919Z"
   },
   {
    "duration": 118,
    "start_time": "2021-11-16T11:29:46.703Z"
   },
   {
    "duration": 437,
    "start_time": "2021-11-16T11:36:02.181Z"
   },
   {
    "duration": 157,
    "start_time": "2021-11-16T11:36:14.388Z"
   },
   {
    "duration": 207,
    "start_time": "2021-11-16T11:47:15.898Z"
   },
   {
    "duration": 3,
    "start_time": "2021-11-16T11:53:52.092Z"
   },
   {
    "duration": 3,
    "start_time": "2021-11-16T11:53:52.236Z"
   },
   {
    "duration": 3,
    "start_time": "2021-11-16T11:59:12.005Z"
   },
   {
    "duration": 112,
    "start_time": "2021-11-16T12:00:33.446Z"
   },
   {
    "duration": 3,
    "start_time": "2021-11-16T12:02:14.453Z"
   },
   {
    "duration": 3,
    "start_time": "2021-11-16T12:02:39.512Z"
   },
   {
    "duration": 106,
    "start_time": "2021-11-16T12:03:03.460Z"
   },
   {
    "duration": 3,
    "start_time": "2021-11-17T20:37:21.139Z"
   },
   {
    "duration": 3,
    "start_time": "2021-11-17T20:37:22.229Z"
   },
   {
    "duration": 3,
    "start_time": "2021-11-17T20:38:38.806Z"
   },
   {
    "duration": 3,
    "start_time": "2021-11-17T20:38:41.958Z"
   },
   {
    "duration": 3,
    "start_time": "2021-11-17T20:43:46.551Z"
   },
   {
    "duration": 4,
    "start_time": "2021-11-17T20:58:21.835Z"
   },
   {
    "duration": 3,
    "start_time": "2021-11-17T20:59:21.872Z"
   },
   {
    "duration": 4,
    "start_time": "2021-11-17T20:59:45.352Z"
   },
   {
    "duration": 4,
    "start_time": "2021-11-17T20:59:49.646Z"
   },
   {
    "duration": 159,
    "start_time": "2021-11-17T21:02:26.949Z"
   },
   {
    "duration": 3,
    "start_time": "2021-11-17T21:03:53.461Z"
   },
   {
    "duration": 3,
    "start_time": "2021-11-17T21:03:53.694Z"
   },
   {
    "duration": 3,
    "start_time": "2021-11-17T21:05:28.145Z"
   },
   {
    "duration": 116,
    "start_time": "2021-11-17T21:05:57.787Z"
   },
   {
    "duration": 3,
    "start_time": "2021-11-17T21:06:37.993Z"
   },
   {
    "duration": 3,
    "start_time": "2021-11-17T21:06:38.261Z"
   },
   {
    "duration": 3,
    "start_time": "2021-11-17T21:11:54.358Z"
   },
   {
    "duration": 3,
    "start_time": "2021-11-17T21:12:43.846Z"
   },
   {
    "duration": 4,
    "start_time": "2021-11-17T21:13:08.773Z"
   },
   {
    "duration": 3,
    "start_time": "2021-11-17T21:14:44.441Z"
   },
   {
    "duration": 3,
    "start_time": "2021-11-17T21:15:42.059Z"
   },
   {
    "duration": 4,
    "start_time": "2021-11-17T21:15:51.995Z"
   },
   {
    "duration": 3,
    "start_time": "2021-11-17T21:15:53.923Z"
   },
   {
    "duration": 3,
    "start_time": "2021-11-17T21:15:55.282Z"
   },
   {
    "duration": 3,
    "start_time": "2021-11-17T21:16:28.492Z"
   },
   {
    "duration": 3,
    "start_time": "2021-11-17T21:16:32.603Z"
   },
   {
    "duration": 3,
    "start_time": "2021-11-17T21:17:06.941Z"
   },
   {
    "duration": 98,
    "start_time": "2021-11-17T21:18:05.733Z"
   },
   {
    "duration": 4,
    "start_time": "2021-11-17T21:21:35.255Z"
   },
   {
    "duration": 3,
    "start_time": "2021-11-17T21:21:37.804Z"
   },
   {
    "duration": 4,
    "start_time": "2021-11-17T21:23:06.071Z"
   },
   {
    "duration": 3,
    "start_time": "2021-11-17T21:23:24.799Z"
   },
   {
    "duration": 3,
    "start_time": "2021-11-17T21:23:32.591Z"
   },
   {
    "duration": 98,
    "start_time": "2021-11-17T21:28:31.559Z"
   },
   {
    "duration": 3,
    "start_time": "2021-11-17T21:28:45.448Z"
   },
   {
    "duration": 3,
    "start_time": "2021-11-17T21:29:17.303Z"
   },
   {
    "duration": 3,
    "start_time": "2021-11-17T21:29:29.617Z"
   },
   {
    "duration": 3,
    "start_time": "2021-11-17T21:29:32.681Z"
   },
   {
    "duration": 3,
    "start_time": "2021-11-17T21:36:11.474Z"
   },
   {
    "duration": 3,
    "start_time": "2021-11-17T21:36:14.791Z"
   },
   {
    "duration": 3,
    "start_time": "2021-11-17T21:36:53.943Z"
   },
   {
    "duration": 3,
    "start_time": "2021-11-17T21:36:56.165Z"
   },
   {
    "duration": 4,
    "start_time": "2021-11-17T21:37:16.590Z"
   },
   {
    "duration": 3,
    "start_time": "2021-11-17T21:37:22.702Z"
   },
   {
    "duration": 4,
    "start_time": "2021-11-17T21:38:03.479Z"
   },
   {
    "duration": 3,
    "start_time": "2021-11-17T21:38:08.601Z"
   },
   {
    "duration": 3,
    "start_time": "2021-11-17T21:38:12.928Z"
   },
   {
    "duration": 3,
    "start_time": "2021-11-17T21:38:48.896Z"
   },
   {
    "duration": 2,
    "start_time": "2021-11-17T21:38:49.171Z"
   },
   {
    "duration": 4,
    "start_time": "2021-11-17T21:39:57.889Z"
   },
   {
    "duration": 3,
    "start_time": "2021-11-17T21:39:58.057Z"
   },
   {
    "duration": 3,
    "start_time": "2021-11-17T21:41:20.108Z"
   },
   {
    "duration": 3,
    "start_time": "2021-11-17T21:41:20.629Z"
   },
   {
    "duration": 3,
    "start_time": "2021-11-17T21:42:49.136Z"
   },
   {
    "duration": 3,
    "start_time": "2021-11-17T21:43:15.137Z"
   },
   {
    "duration": 4,
    "start_time": "2021-11-17T21:43:16.766Z"
   },
   {
    "duration": 4,
    "start_time": "2021-11-17T21:43:31.711Z"
   },
   {
    "duration": 3,
    "start_time": "2021-11-17T21:43:36.312Z"
   },
   {
    "duration": 4,
    "start_time": "2021-11-17T21:45:08.825Z"
   },
   {
    "duration": 4,
    "start_time": "2021-11-17T21:45:10.119Z"
   },
   {
    "duration": 4,
    "start_time": "2021-11-17T21:45:13.748Z"
   },
   {
    "duration": 3,
    "start_time": "2021-11-17T21:45:22.219Z"
   },
   {
    "duration": 3,
    "start_time": "2021-11-17T21:45:33.412Z"
   },
   {
    "duration": 2,
    "start_time": "2021-11-17T21:46:01.885Z"
   },
   {
    "duration": 3,
    "start_time": "2021-11-17T21:46:03.628Z"
   },
   {
    "duration": 107,
    "start_time": "2021-11-17T21:47:32.512Z"
   },
   {
    "duration": 103,
    "start_time": "2021-11-17T21:50:36.243Z"
   },
   {
    "duration": 3,
    "start_time": "2021-11-18T06:28:31.440Z"
   },
   {
    "duration": 3,
    "start_time": "2021-11-18T06:29:00.168Z"
   },
   {
    "duration": 3,
    "start_time": "2021-11-18T06:31:27.008Z"
   },
   {
    "duration": 2,
    "start_time": "2021-11-18T06:35:34.288Z"
   },
   {
    "duration": 2,
    "start_time": "2021-11-18T06:38:04.527Z"
   },
   {
    "duration": 2519,
    "start_time": "2024-09-12T02:58:02.599Z"
   },
   {
    "duration": 639,
    "start_time": "2024-09-12T02:58:21.754Z"
   },
   {
    "duration": 60,
    "start_time": "2024-09-12T03:04:23.616Z"
   },
   {
    "duration": 65,
    "start_time": "2024-09-12T03:06:43.853Z"
   },
   {
    "duration": 249,
    "start_time": "2024-09-12T03:07:56.840Z"
   },
   {
    "duration": 9,
    "start_time": "2024-09-12T03:12:10.871Z"
   },
   {
    "duration": 14,
    "start_time": "2024-09-12T03:12:25.533Z"
   },
   {
    "duration": 2491,
    "start_time": "2024-09-12T22:56:10.845Z"
   },
   {
    "duration": 241,
    "start_time": "2024-09-12T22:56:13.338Z"
   },
   {
    "duration": 9,
    "start_time": "2024-09-12T22:56:13.581Z"
   },
   {
    "duration": 6,
    "start_time": "2024-09-12T22:56:13.593Z"
   },
   {
    "duration": 3,
    "start_time": "2024-09-12T22:56:13.601Z"
   },
   {
    "duration": 3,
    "start_time": "2024-09-12T22:56:13.605Z"
   },
   {
    "duration": 2,
    "start_time": "2024-09-12T22:56:13.609Z"
   },
   {
    "duration": 3,
    "start_time": "2024-09-12T22:56:13.613Z"
   },
   {
    "duration": 2,
    "start_time": "2024-09-12T22:56:13.618Z"
   },
   {
    "duration": 2,
    "start_time": "2024-09-12T22:56:13.623Z"
   },
   {
    "duration": 2,
    "start_time": "2024-09-12T22:56:13.627Z"
   },
   {
    "duration": 2,
    "start_time": "2024-09-12T22:56:13.631Z"
   },
   {
    "duration": 2,
    "start_time": "2024-09-12T22:56:13.635Z"
   },
   {
    "duration": 2,
    "start_time": "2024-09-12T22:56:13.639Z"
   },
   {
    "duration": 2,
    "start_time": "2024-09-12T22:56:13.643Z"
   },
   {
    "duration": 2,
    "start_time": "2024-09-12T22:56:13.647Z"
   },
   {
    "duration": 54,
    "start_time": "2024-09-12T22:56:13.651Z"
   },
   {
    "duration": 2,
    "start_time": "2024-09-12T22:56:13.708Z"
   },
   {
    "duration": 2,
    "start_time": "2024-09-12T22:56:13.712Z"
   },
   {
    "duration": 3,
    "start_time": "2024-09-12T22:56:13.716Z"
   },
   {
    "duration": 3,
    "start_time": "2024-09-12T22:56:13.720Z"
   },
   {
    "duration": 2,
    "start_time": "2024-09-12T22:56:13.725Z"
   },
   {
    "duration": 3,
    "start_time": "2024-09-12T22:56:13.728Z"
   },
   {
    "duration": 2,
    "start_time": "2024-09-12T22:56:13.732Z"
   },
   {
    "duration": 2,
    "start_time": "2024-09-12T22:56:13.736Z"
   },
   {
    "duration": 2,
    "start_time": "2024-09-12T22:56:13.740Z"
   },
   {
    "duration": 2,
    "start_time": "2024-09-12T22:56:13.744Z"
   },
   {
    "duration": 2,
    "start_time": "2024-09-12T22:56:13.750Z"
   },
   {
    "duration": 10,
    "start_time": "2024-09-12T23:15:50.040Z"
   },
   {
    "duration": 19,
    "start_time": "2024-09-12T23:17:18.625Z"
   },
   {
    "duration": 6,
    "start_time": "2024-09-12T23:46:05.413Z"
   },
   {
    "duration": 214,
    "start_time": "2024-09-12T23:46:40.685Z"
   },
   {
    "duration": 3,
    "start_time": "2024-09-12T23:47:13.017Z"
   },
   {
    "duration": 7,
    "start_time": "2024-09-12T23:48:29.716Z"
   },
   {
    "duration": 3,
    "start_time": "2024-09-12T23:53:03.405Z"
   },
   {
    "duration": 8,
    "start_time": "2024-09-13T00:00:10.664Z"
   },
   {
    "duration": 7,
    "start_time": "2024-09-13T00:00:18.573Z"
   },
   {
    "duration": 13,
    "start_time": "2024-09-13T00:10:31.209Z"
   },
   {
    "duration": 9,
    "start_time": "2024-09-13T00:15:36.985Z"
   },
   {
    "duration": 8,
    "start_time": "2024-09-13T00:16:18.209Z"
   },
   {
    "duration": 732,
    "start_time": "2024-09-13T00:29:13.766Z"
   },
   {
    "duration": 163,
    "start_time": "2024-09-13T00:29:14.501Z"
   },
   {
    "duration": 9,
    "start_time": "2024-09-13T00:29:14.666Z"
   },
   {
    "duration": 31,
    "start_time": "2024-09-13T00:29:14.677Z"
   },
   {
    "duration": 4,
    "start_time": "2024-09-13T00:29:14.710Z"
   },
   {
    "duration": 3,
    "start_time": "2024-09-13T00:29:14.716Z"
   },
   {
    "duration": 8,
    "start_time": "2024-09-13T00:29:14.721Z"
   },
   {
    "duration": 5,
    "start_time": "2024-09-13T00:29:14.731Z"
   },
   {
    "duration": 9,
    "start_time": "2024-09-13T00:29:14.738Z"
   },
   {
    "duration": 7,
    "start_time": "2024-09-13T00:29:14.749Z"
   },
   {
    "duration": 7,
    "start_time": "2024-09-13T00:29:14.758Z"
   },
   {
    "duration": 2,
    "start_time": "2024-09-13T00:29:14.806Z"
   },
   {
    "duration": 3,
    "start_time": "2024-09-13T00:29:14.809Z"
   },
   {
    "duration": 2,
    "start_time": "2024-09-13T00:29:14.816Z"
   },
   {
    "duration": 2,
    "start_time": "2024-09-13T00:29:14.820Z"
   },
   {
    "duration": 3,
    "start_time": "2024-09-13T00:29:14.824Z"
   },
   {
    "duration": 3,
    "start_time": "2024-09-13T00:29:14.828Z"
   },
   {
    "duration": 2,
    "start_time": "2024-09-13T00:29:14.833Z"
   },
   {
    "duration": 3,
    "start_time": "2024-09-13T00:29:14.837Z"
   },
   {
    "duration": 2,
    "start_time": "2024-09-13T00:29:14.842Z"
   },
   {
    "duration": 3,
    "start_time": "2024-09-13T00:29:14.845Z"
   },
   {
    "duration": 3,
    "start_time": "2024-09-13T00:29:14.850Z"
   },
   {
    "duration": 51,
    "start_time": "2024-09-13T00:29:14.854Z"
   },
   {
    "duration": 3,
    "start_time": "2024-09-13T00:29:14.906Z"
   },
   {
    "duration": 2,
    "start_time": "2024-09-13T00:29:14.911Z"
   },
   {
    "duration": 3,
    "start_time": "2024-09-13T00:29:14.915Z"
   },
   {
    "duration": 2,
    "start_time": "2024-09-13T00:29:14.920Z"
   },
   {
    "duration": 3,
    "start_time": "2024-09-13T00:29:14.924Z"
   },
   {
    "duration": 3,
    "start_time": "2024-09-13T00:29:14.928Z"
   },
   {
    "duration": 2,
    "start_time": "2024-09-13T00:29:14.933Z"
   },
   {
    "duration": 3,
    "start_time": "2024-09-13T00:29:14.937Z"
   },
   {
    "duration": 2,
    "start_time": "2024-09-13T00:29:14.942Z"
   },
   {
    "duration": 3,
    "start_time": "2024-09-13T00:29:14.946Z"
   },
   {
    "duration": 16,
    "start_time": "2024-09-13T00:32:05.823Z"
   },
   {
    "duration": 5,
    "start_time": "2024-09-13T00:33:14.597Z"
   },
   {
    "duration": 40,
    "start_time": "2024-09-13T00:48:30.096Z"
   },
   {
    "duration": 6,
    "start_time": "2024-09-13T01:02:54.378Z"
   },
   {
    "duration": 9,
    "start_time": "2024-09-13T01:03:35.371Z"
   },
   {
    "duration": 6,
    "start_time": "2024-09-13T01:05:33.972Z"
   },
   {
    "duration": 10,
    "start_time": "2024-09-13T01:05:37.233Z"
   },
   {
    "duration": 13,
    "start_time": "2024-09-13T01:09:31.210Z"
   },
   {
    "duration": 12,
    "start_time": "2024-09-13T01:09:36.531Z"
   },
   {
    "duration": 5,
    "start_time": "2024-09-13T01:09:51.934Z"
   },
   {
    "duration": 16,
    "start_time": "2024-09-13T01:18:40.133Z"
   },
   {
    "duration": 5,
    "start_time": "2024-09-13T01:21:06.979Z"
   },
   {
    "duration": 20,
    "start_time": "2024-09-13T01:21:09.481Z"
   },
   {
    "duration": 14,
    "start_time": "2024-09-13T01:24:26.523Z"
   },
   {
    "duration": 5,
    "start_time": "2024-09-13T01:24:40.049Z"
   },
   {
    "duration": 25,
    "start_time": "2024-09-13T01:40:20.922Z"
   },
   {
    "duration": 6,
    "start_time": "2024-09-13T01:43:24.666Z"
   },
   {
    "duration": 22,
    "start_time": "2024-09-13T01:47:20.989Z"
   },
   {
    "duration": 6,
    "start_time": "2024-09-13T01:48:03.940Z"
   },
   {
    "duration": 6,
    "start_time": "2024-09-13T01:49:10.806Z"
   },
   {
    "duration": 9,
    "start_time": "2024-09-13T01:50:44.331Z"
   },
   {
    "duration": 5,
    "start_time": "2024-09-13T01:53:20.254Z"
   },
   {
    "duration": 739,
    "start_time": "2024-09-13T01:53:58.166Z"
   },
   {
    "duration": 162,
    "start_time": "2024-09-13T01:53:58.907Z"
   },
   {
    "duration": 8,
    "start_time": "2024-09-13T01:53:59.071Z"
   },
   {
    "duration": 26,
    "start_time": "2024-09-13T01:53:59.082Z"
   },
   {
    "duration": 3,
    "start_time": "2024-09-13T01:53:59.109Z"
   },
   {
    "duration": 3,
    "start_time": "2024-09-13T01:53:59.114Z"
   },
   {
    "duration": 8,
    "start_time": "2024-09-13T01:53:59.119Z"
   },
   {
    "duration": 5,
    "start_time": "2024-09-13T01:53:59.128Z"
   },
   {
    "duration": 10,
    "start_time": "2024-09-13T01:53:59.134Z"
   },
   {
    "duration": 7,
    "start_time": "2024-09-13T01:53:59.148Z"
   },
   {
    "duration": 5,
    "start_time": "2024-09-13T01:53:59.157Z"
   },
   {
    "duration": 15,
    "start_time": "2024-09-13T01:53:59.205Z"
   },
   {
    "duration": 4,
    "start_time": "2024-09-13T01:53:59.222Z"
   },
   {
    "duration": 34,
    "start_time": "2024-09-13T01:53:59.228Z"
   },
   {
    "duration": 6,
    "start_time": "2024-09-13T01:53:59.264Z"
   },
   {
    "duration": 37,
    "start_time": "2024-09-13T01:53:59.272Z"
   },
   {
    "duration": 14,
    "start_time": "2024-09-13T01:53:59.311Z"
   },
   {
    "duration": 6,
    "start_time": "2024-09-13T01:53:59.327Z"
   },
   {
    "duration": 17,
    "start_time": "2024-09-13T01:53:59.335Z"
   },
   {
    "duration": 5,
    "start_time": "2024-09-13T01:53:59.355Z"
   },
   {
    "duration": 45,
    "start_time": "2024-09-13T01:53:59.361Z"
   },
   {
    "duration": 14,
    "start_time": "2024-09-13T01:53:59.408Z"
   },
   {
    "duration": 6,
    "start_time": "2024-09-13T01:53:59.423Z"
   },
   {
    "duration": 27,
    "start_time": "2024-09-13T01:53:59.431Z"
   },
   {
    "duration": 6,
    "start_time": "2024-09-13T01:53:59.459Z"
   },
   {
    "duration": 40,
    "start_time": "2024-09-13T01:53:59.466Z"
   },
   {
    "duration": 2,
    "start_time": "2024-09-13T01:53:59.507Z"
   },
   {
    "duration": 2,
    "start_time": "2024-09-13T01:53:59.513Z"
   },
   {
    "duration": 3,
    "start_time": "2024-09-13T01:53:59.517Z"
   },
   {
    "duration": 2,
    "start_time": "2024-09-13T01:53:59.521Z"
   },
   {
    "duration": 2,
    "start_time": "2024-09-13T01:53:59.525Z"
   },
   {
    "duration": 2,
    "start_time": "2024-09-13T01:53:59.529Z"
   },
   {
    "duration": 2,
    "start_time": "2024-09-13T01:53:59.533Z"
   },
   {
    "duration": 2,
    "start_time": "2024-09-13T01:53:59.537Z"
   },
   {
    "duration": 2,
    "start_time": "2024-09-13T01:53:59.542Z"
   },
   {
    "duration": 2,
    "start_time": "2024-09-13T01:53:59.546Z"
   },
   {
    "duration": 2,
    "start_time": "2024-09-13T01:53:59.550Z"
   },
   {
    "duration": 2,
    "start_time": "2024-09-13T01:53:59.554Z"
   },
   {
    "duration": 1,
    "start_time": "2024-09-13T01:53:59.607Z"
   },
   {
    "duration": 2,
    "start_time": "2024-09-13T01:53:59.610Z"
   },
   {
    "duration": 2,
    "start_time": "2024-09-13T01:53:59.614Z"
   },
   {
    "duration": 3,
    "start_time": "2024-09-13T01:53:59.618Z"
   },
   {
    "duration": 11,
    "start_time": "2024-09-13T01:58:02.359Z"
   },
   {
    "duration": 11,
    "start_time": "2024-09-13T02:10:25.214Z"
   },
   {
    "duration": 18,
    "start_time": "2024-09-13T02:18:00.096Z"
   },
   {
    "duration": 16,
    "start_time": "2024-09-13T02:21:09.113Z"
   },
   {
    "duration": 14,
    "start_time": "2024-09-13T02:21:39.654Z"
   },
   {
    "duration": 10,
    "start_time": "2024-09-13T02:22:19.855Z"
   },
   {
    "duration": 22,
    "start_time": "2024-09-13T02:25:03.991Z"
   },
   {
    "duration": 432,
    "start_time": "2024-09-13T02:25:26.708Z"
   },
   {
    "duration": 25,
    "start_time": "2024-09-13T02:25:42.379Z"
   },
   {
    "duration": 24,
    "start_time": "2024-09-13T02:25:53.372Z"
   },
   {
    "duration": 12,
    "start_time": "2024-09-13T02:26:01.106Z"
   },
   {
    "duration": 25,
    "start_time": "2024-09-13T02:26:17.967Z"
   },
   {
    "duration": 41,
    "start_time": "2024-09-13T02:26:38.819Z"
   },
   {
    "duration": 174,
    "start_time": "2024-09-13T02:28:07.883Z"
   },
   {
    "duration": 17,
    "start_time": "2024-09-13T02:28:34.817Z"
   },
   {
    "duration": 10,
    "start_time": "2024-09-13T02:33:19.384Z"
   },
   {
    "duration": 11,
    "start_time": "2024-09-13T02:34:41.646Z"
   },
   {
    "duration": 12,
    "start_time": "2024-09-13T02:43:59.608Z"
   },
   {
    "duration": 9,
    "start_time": "2024-09-13T02:44:19.193Z"
   },
   {
    "duration": 8,
    "start_time": "2024-09-13T02:44:49.053Z"
   },
   {
    "duration": 250,
    "start_time": "2024-09-13T02:51:29.405Z"
   },
   {
    "duration": 179,
    "start_time": "2024-09-13T02:52:27.527Z"
   },
   {
    "duration": 7,
    "start_time": "2024-09-13T02:58:03.326Z"
   },
   {
    "duration": 118,
    "start_time": "2024-09-13T02:59:59.780Z"
   },
   {
    "duration": 160,
    "start_time": "2024-09-13T03:07:13.439Z"
   },
   {
    "duration": 173,
    "start_time": "2024-09-13T03:07:43.620Z"
   },
   {
    "duration": 121,
    "start_time": "2024-09-13T03:08:09.102Z"
   },
   {
    "duration": 118,
    "start_time": "2024-09-13T03:11:27.587Z"
   },
   {
    "duration": 117,
    "start_time": "2024-09-13T03:11:57.454Z"
   },
   {
    "duration": 8,
    "start_time": "2024-09-13T03:27:35.061Z"
   },
   {
    "duration": 113,
    "start_time": "2024-09-13T03:27:47.893Z"
   },
   {
    "duration": 7,
    "start_time": "2024-09-13T03:42:05.723Z"
   },
   {
    "duration": 113,
    "start_time": "2024-09-13T03:42:18.784Z"
   },
   {
    "duration": 200,
    "start_time": "2024-09-13T03:43:17.190Z"
   },
   {
    "duration": 113,
    "start_time": "2024-09-13T03:48:14.398Z"
   },
   {
    "duration": 119,
    "start_time": "2024-09-13T03:48:38.611Z"
   },
   {
    "duration": 199,
    "start_time": "2024-09-13T03:49:13.545Z"
   },
   {
    "duration": 115,
    "start_time": "2024-09-13T03:49:30.951Z"
   },
   {
    "duration": 196,
    "start_time": "2024-09-13T03:49:54.720Z"
   },
   {
    "duration": 6,
    "start_time": "2024-09-13T03:55:20.119Z"
   },
   {
    "duration": 7,
    "start_time": "2024-09-13T04:02:35.459Z"
   },
   {
    "duration": 203,
    "start_time": "2024-09-13T04:05:16.014Z"
   },
   {
    "duration": 44,
    "start_time": "2024-09-13T04:05:25.437Z"
   },
   {
    "duration": 3,
    "start_time": "2024-09-13T04:07:29.000Z"
   },
   {
    "duration": 12,
    "start_time": "2024-09-13T04:18:15.006Z"
   },
   {
    "duration": 715,
    "start_time": "2024-09-13T04:53:38.291Z"
   },
   {
    "duration": 163,
    "start_time": "2024-09-13T04:53:39.008Z"
   },
   {
    "duration": 9,
    "start_time": "2024-09-13T04:53:39.173Z"
   },
   {
    "duration": 29,
    "start_time": "2024-09-13T04:53:39.184Z"
   },
   {
    "duration": 4,
    "start_time": "2024-09-13T04:53:39.214Z"
   },
   {
    "duration": 5,
    "start_time": "2024-09-13T04:53:39.219Z"
   },
   {
    "duration": 8,
    "start_time": "2024-09-13T04:53:39.226Z"
   },
   {
    "duration": 6,
    "start_time": "2024-09-13T04:53:39.235Z"
   },
   {
    "duration": 10,
    "start_time": "2024-09-13T04:53:39.242Z"
   },
   {
    "duration": 7,
    "start_time": "2024-09-13T04:53:39.256Z"
   },
   {
    "duration": 41,
    "start_time": "2024-09-13T04:53:39.265Z"
   },
   {
    "duration": 15,
    "start_time": "2024-09-13T04:53:39.307Z"
   },
   {
    "duration": 4,
    "start_time": "2024-09-13T04:53:39.324Z"
   },
   {
    "duration": 36,
    "start_time": "2024-09-13T04:53:39.329Z"
   },
   {
    "duration": 6,
    "start_time": "2024-09-13T04:53:39.366Z"
   },
   {
    "duration": 38,
    "start_time": "2024-09-13T04:53:39.373Z"
   },
   {
    "duration": 13,
    "start_time": "2024-09-13T04:53:39.412Z"
   },
   {
    "duration": 4,
    "start_time": "2024-09-13T04:53:39.426Z"
   },
   {
    "duration": 17,
    "start_time": "2024-09-13T04:53:39.432Z"
   },
   {
    "duration": 5,
    "start_time": "2024-09-13T04:53:39.451Z"
   },
   {
    "duration": 52,
    "start_time": "2024-09-13T04:53:39.458Z"
   },
   {
    "duration": 14,
    "start_time": "2024-09-13T04:53:39.512Z"
   },
   {
    "duration": 4,
    "start_time": "2024-09-13T04:53:39.527Z"
   },
   {
    "duration": 27,
    "start_time": "2024-09-13T04:53:39.533Z"
   },
   {
    "duration": 11,
    "start_time": "2024-09-13T04:53:39.561Z"
   },
   {
    "duration": 40,
    "start_time": "2024-09-13T04:53:39.573Z"
   },
   {
    "duration": 18,
    "start_time": "2024-09-13T04:53:39.615Z"
   },
   {
    "duration": 15,
    "start_time": "2024-09-13T04:53:39.639Z"
   },
   {
    "duration": 14,
    "start_time": "2024-09-13T04:53:39.655Z"
   },
   {
    "duration": 35,
    "start_time": "2024-09-13T04:53:39.670Z"
   },
   {
    "duration": 16,
    "start_time": "2024-09-13T04:53:39.706Z"
   },
   {
    "duration": 9,
    "start_time": "2024-09-13T04:53:39.723Z"
   },
   {
    "duration": 9,
    "start_time": "2024-09-13T04:53:39.734Z"
   },
   {
    "duration": 12,
    "start_time": "2024-09-13T04:53:39.745Z"
   },
   {
    "duration": 8,
    "start_time": "2024-09-13T04:53:39.759Z"
   },
   {
    "duration": 42,
    "start_time": "2024-09-13T04:53:39.768Z"
   },
   {
    "duration": 172,
    "start_time": "2024-09-13T04:53:39.811Z"
   },
   {
    "duration": 186,
    "start_time": "2024-09-13T04:53:39.985Z"
   },
   {
    "duration": 7,
    "start_time": "2024-09-13T04:53:40.173Z"
   },
   {
    "duration": 132,
    "start_time": "2024-09-13T04:53:40.181Z"
   },
   {
    "duration": 125,
    "start_time": "2024-09-13T04:53:40.315Z"
   },
   {
    "duration": 177,
    "start_time": "2024-09-13T04:53:40.441Z"
   },
   {
    "duration": 7,
    "start_time": "2024-09-13T04:53:40.620Z"
   },
   {
    "duration": 137,
    "start_time": "2024-09-13T04:53:40.628Z"
   },
   {
    "duration": 7,
    "start_time": "2024-09-13T04:53:40.767Z"
   },
   {
    "duration": 129,
    "start_time": "2024-09-13T04:53:40.776Z"
   },
   {
    "duration": 200,
    "start_time": "2024-09-13T04:53:40.906Z"
   },
   {
    "duration": 6,
    "start_time": "2024-09-13T04:53:41.108Z"
   },
   {
    "duration": 12,
    "start_time": "2024-09-13T04:53:41.116Z"
   },
   {
    "duration": 2464,
    "start_time": "2024-09-13T10:19:05.372Z"
   },
   {
    "duration": 264,
    "start_time": "2024-09-13T10:19:07.838Z"
   },
   {
    "duration": 8,
    "start_time": "2024-09-13T10:19:08.104Z"
   },
   {
    "duration": 18,
    "start_time": "2024-09-13T10:19:08.115Z"
   },
   {
    "duration": 4,
    "start_time": "2024-09-13T10:19:08.135Z"
   },
   {
    "duration": 4,
    "start_time": "2024-09-13T10:19:08.141Z"
   },
   {
    "duration": 8,
    "start_time": "2024-09-13T10:19:08.147Z"
   },
   {
    "duration": 5,
    "start_time": "2024-09-13T10:19:08.157Z"
   },
   {
    "duration": 11,
    "start_time": "2024-09-13T10:19:08.163Z"
   },
   {
    "duration": 8,
    "start_time": "2024-09-13T10:19:08.177Z"
   },
   {
    "duration": 50,
    "start_time": "2024-09-13T10:19:08.187Z"
   },
   {
    "duration": 15,
    "start_time": "2024-09-13T10:19:08.241Z"
   },
   {
    "duration": 4,
    "start_time": "2024-09-13T10:19:08.257Z"
   },
   {
    "duration": 38,
    "start_time": "2024-09-13T10:19:08.263Z"
   },
   {
    "duration": 29,
    "start_time": "2024-09-13T10:19:08.303Z"
   },
   {
    "duration": 10,
    "start_time": "2024-09-13T10:19:08.333Z"
   },
   {
    "duration": 12,
    "start_time": "2024-09-13T10:19:08.345Z"
   },
   {
    "duration": 3,
    "start_time": "2024-09-13T10:19:08.359Z"
   },
   {
    "duration": 17,
    "start_time": "2024-09-13T10:19:08.364Z"
   },
   {
    "duration": 5,
    "start_time": "2024-09-13T10:19:08.383Z"
   },
   {
    "duration": 42,
    "start_time": "2024-09-13T10:19:08.390Z"
   },
   {
    "duration": 15,
    "start_time": "2024-09-13T10:19:08.435Z"
   },
   {
    "duration": 4,
    "start_time": "2024-09-13T10:19:08.452Z"
   },
   {
    "duration": 26,
    "start_time": "2024-09-13T10:19:08.457Z"
   },
   {
    "duration": 11,
    "start_time": "2024-09-13T10:19:08.485Z"
   },
   {
    "duration": 39,
    "start_time": "2024-09-13T10:19:08.498Z"
   },
   {
    "duration": 19,
    "start_time": "2024-09-13T10:19:08.539Z"
   },
   {
    "duration": 17,
    "start_time": "2024-09-13T10:19:08.562Z"
   },
   {
    "duration": 16,
    "start_time": "2024-09-13T10:19:08.580Z"
   },
   {
    "duration": 41,
    "start_time": "2024-09-13T10:19:08.598Z"
   },
   {
    "duration": 15,
    "start_time": "2024-09-13T10:19:08.641Z"
   },
   {
    "duration": 9,
    "start_time": "2024-09-13T10:19:08.657Z"
   },
   {
    "duration": 10,
    "start_time": "2024-09-13T10:19:08.668Z"
   },
   {
    "duration": 12,
    "start_time": "2024-09-13T10:19:08.680Z"
   },
   {
    "duration": 41,
    "start_time": "2024-09-13T10:19:08.693Z"
   },
   {
    "duration": 8,
    "start_time": "2024-09-13T10:19:08.735Z"
   },
   {
    "duration": 181,
    "start_time": "2024-09-13T10:19:08.744Z"
   },
   {
    "duration": 180,
    "start_time": "2024-09-13T10:19:08.931Z"
   },
   {
    "duration": 7,
    "start_time": "2024-09-13T10:19:09.113Z"
   },
   {
    "duration": 130,
    "start_time": "2024-09-13T10:19:09.122Z"
   },
   {
    "duration": 125,
    "start_time": "2024-09-13T10:19:09.253Z"
   },
   {
    "duration": 129,
    "start_time": "2024-09-13T10:19:09.379Z"
   },
   {
    "duration": 6,
    "start_time": "2024-09-13T10:19:09.510Z"
   },
   {
    "duration": 119,
    "start_time": "2024-09-13T10:19:09.531Z"
   },
   {
    "duration": 7,
    "start_time": "2024-09-13T10:19:09.652Z"
   },
   {
    "duration": 128,
    "start_time": "2024-09-13T10:19:09.661Z"
   },
   {
    "duration": 274,
    "start_time": "2024-09-13T10:19:09.791Z"
   },
   {
    "duration": 8,
    "start_time": "2024-09-13T10:19:10.067Z"
   },
   {
    "duration": 12,
    "start_time": "2024-09-13T10:19:10.076Z"
   },
   {
    "duration": 2456,
    "start_time": "2024-09-13T21:57:52.748Z"
   },
   {
    "duration": 249,
    "start_time": "2024-09-13T21:57:55.206Z"
   },
   {
    "duration": 9,
    "start_time": "2024-09-13T21:57:55.457Z"
   },
   {
    "duration": 18,
    "start_time": "2024-09-13T21:57:55.468Z"
   },
   {
    "duration": 3,
    "start_time": "2024-09-13T21:57:55.489Z"
   },
   {
    "duration": 3,
    "start_time": "2024-09-13T21:57:55.493Z"
   },
   {
    "duration": 8,
    "start_time": "2024-09-13T21:57:55.498Z"
   },
   {
    "duration": 5,
    "start_time": "2024-09-13T21:57:55.507Z"
   },
   {
    "duration": 10,
    "start_time": "2024-09-13T21:57:55.514Z"
   },
   {
    "duration": 8,
    "start_time": "2024-09-13T21:57:55.527Z"
   },
   {
    "duration": 7,
    "start_time": "2024-09-13T21:57:55.536Z"
   },
   {
    "duration": 52,
    "start_time": "2024-09-13T21:57:55.545Z"
   },
   {
    "duration": 5,
    "start_time": "2024-09-13T21:57:55.598Z"
   },
   {
    "duration": 35,
    "start_time": "2024-09-13T21:57:55.607Z"
   },
   {
    "duration": 6,
    "start_time": "2024-09-13T21:57:55.644Z"
   },
   {
    "duration": 38,
    "start_time": "2024-09-13T21:57:55.652Z"
   },
   {
    "duration": 12,
    "start_time": "2024-09-13T21:57:55.691Z"
   },
   {
    "duration": 4,
    "start_time": "2024-09-13T21:57:55.704Z"
   },
   {
    "duration": 16,
    "start_time": "2024-09-13T21:57:55.710Z"
   },
   {
    "duration": 5,
    "start_time": "2024-09-13T21:57:55.727Z"
   },
   {
    "duration": 19,
    "start_time": "2024-09-13T21:57:55.733Z"
   },
   {
    "duration": 47,
    "start_time": "2024-09-13T21:57:55.753Z"
   },
   {
    "duration": 4,
    "start_time": "2024-09-13T21:57:55.803Z"
   },
   {
    "duration": 28,
    "start_time": "2024-09-13T21:57:55.809Z"
   },
   {
    "duration": 13,
    "start_time": "2024-09-13T21:57:55.838Z"
   },
   {
    "duration": 39,
    "start_time": "2024-09-13T21:57:55.853Z"
   },
   {
    "duration": 18,
    "start_time": "2024-09-13T21:57:55.893Z"
   },
   {
    "duration": 15,
    "start_time": "2024-09-13T21:57:55.913Z"
   },
   {
    "duration": 13,
    "start_time": "2024-09-13T21:57:55.930Z"
   },
   {
    "duration": 9,
    "start_time": "2024-09-13T21:57:55.945Z"
   },
   {
    "duration": 44,
    "start_time": "2024-09-13T21:57:55.955Z"
   },
   {
    "duration": 9,
    "start_time": "2024-09-13T21:57:56.000Z"
   },
   {
    "duration": 10,
    "start_time": "2024-09-13T21:57:56.010Z"
   },
   {
    "duration": 12,
    "start_time": "2024-09-13T21:57:56.021Z"
   },
   {
    "duration": 8,
    "start_time": "2024-09-13T21:57:56.036Z"
   },
   {
    "duration": 6,
    "start_time": "2024-09-13T21:57:56.046Z"
   },
   {
    "duration": 174,
    "start_time": "2024-09-13T21:57:56.087Z"
   },
   {
    "duration": 190,
    "start_time": "2024-09-13T21:57:56.263Z"
   },
   {
    "duration": 8,
    "start_time": "2024-09-13T21:57:56.455Z"
   },
   {
    "duration": 130,
    "start_time": "2024-09-13T21:57:56.465Z"
   },
   {
    "duration": 127,
    "start_time": "2024-09-13T21:57:56.599Z"
   },
   {
    "duration": 121,
    "start_time": "2024-09-13T21:57:56.728Z"
   },
   {
    "duration": 7,
    "start_time": "2024-09-13T21:57:56.850Z"
   },
   {
    "duration": 127,
    "start_time": "2024-09-13T21:57:56.859Z"
   },
   {
    "duration": 8,
    "start_time": "2024-09-13T21:57:56.988Z"
   },
   {
    "duration": 130,
    "start_time": "2024-09-13T21:57:56.997Z"
   },
   {
    "duration": 267,
    "start_time": "2024-09-13T21:57:57.128Z"
   },
   {
    "duration": 7,
    "start_time": "2024-09-13T21:57:57.398Z"
   },
   {
    "duration": 12,
    "start_time": "2024-09-13T21:57:57.406Z"
   },
   {
    "duration": 11,
    "start_time": "2024-09-13T22:08:05.747Z"
   },
   {
    "duration": 11,
    "start_time": "2024-09-13T22:49:27.265Z"
   },
   {
    "duration": 16,
    "start_time": "2024-09-13T22:49:31.080Z"
   },
   {
    "duration": 15,
    "start_time": "2024-09-13T22:49:34.178Z"
   },
   {
    "duration": 15,
    "start_time": "2024-09-13T22:49:36.730Z"
   },
   {
    "duration": 11,
    "start_time": "2024-09-13T22:49:40.171Z"
   },
   {
    "duration": 15,
    "start_time": "2024-09-13T22:49:45.339Z"
   },
   {
    "duration": 9,
    "start_time": "2024-09-13T22:49:48.209Z"
   },
   {
    "duration": 9,
    "start_time": "2024-09-13T22:51:29.520Z"
   },
   {
    "duration": 11,
    "start_time": "2024-09-13T22:52:56.426Z"
   },
   {
    "duration": 624,
    "start_time": "2024-09-13T22:55:41.722Z"
   },
   {
    "duration": 48,
    "start_time": "2024-09-13T22:57:49.795Z"
   },
   {
    "duration": 10,
    "start_time": "2024-09-13T23:01:49.022Z"
   },
   {
    "duration": 10,
    "start_time": "2024-09-13T23:01:51.886Z"
   },
   {
    "duration": 49,
    "start_time": "2024-09-13T23:02:06.162Z"
   },
   {
    "duration": 10,
    "start_time": "2024-09-13T23:02:19.893Z"
   },
   {
    "duration": 13,
    "start_time": "2024-09-13T23:15:24.705Z"
   },
   {
    "duration": 9,
    "start_time": "2024-09-13T23:21:16.504Z"
   },
   {
    "duration": 6,
    "start_time": "2024-09-13T23:22:33.692Z"
   },
   {
    "duration": 162,
    "start_time": "2024-09-13T23:23:57.680Z"
   },
   {
    "duration": 172,
    "start_time": "2024-09-13T23:25:38.209Z"
   },
   {
    "duration": 13,
    "start_time": "2024-09-13T23:26:14.632Z"
   },
   {
    "duration": 116,
    "start_time": "2024-09-13T23:27:05.807Z"
   },
   {
    "duration": 115,
    "start_time": "2024-09-13T23:28:19.286Z"
   },
   {
    "duration": 8,
    "start_time": "2024-09-13T23:29:22.816Z"
   },
   {
    "duration": 202,
    "start_time": "2024-09-13T23:30:27.423Z"
   },
   {
    "duration": 13,
    "start_time": "2024-09-13T23:49:55.681Z"
   },
   {
    "duration": 10,
    "start_time": "2024-09-13T23:50:45.386Z"
   },
   {
    "duration": 16,
    "start_time": "2024-09-13T23:50:51.084Z"
   },
   {
    "duration": 14,
    "start_time": "2024-09-13T23:51:03.657Z"
   },
   {
    "duration": 14,
    "start_time": "2024-09-13T23:51:11.593Z"
   },
   {
    "duration": 8,
    "start_time": "2024-09-13T23:51:49.474Z"
   },
   {
    "duration": 17,
    "start_time": "2024-09-13T23:53:51.012Z"
   },
   {
    "duration": 10,
    "start_time": "2024-09-13T23:54:12.933Z"
   },
   {
    "duration": 10,
    "start_time": "2024-09-13T23:54:19.755Z"
   },
   {
    "duration": 15,
    "start_time": "2024-09-13T23:54:32.525Z"
   },
   {
    "duration": 8,
    "start_time": "2024-09-13T23:56:09.814Z"
   },
   {
    "duration": 9,
    "start_time": "2024-09-13T23:56:26.279Z"
   },
   {
    "duration": 188,
    "start_time": "2024-09-13T23:58:23.033Z"
   },
   {
    "duration": 175,
    "start_time": "2024-09-13T23:58:46.869Z"
   },
   {
    "duration": 7,
    "start_time": "2024-09-13T23:58:55.863Z"
   },
   {
    "duration": 125,
    "start_time": "2024-09-13T23:59:29.516Z"
   },
   {
    "duration": 114,
    "start_time": "2024-09-13T23:59:55.528Z"
   },
   {
    "duration": 24,
    "start_time": "2024-09-14T00:08:37.628Z"
   },
   {
    "duration": 25,
    "start_time": "2024-09-14T00:08:54.058Z"
   },
   {
    "duration": 9,
    "start_time": "2024-09-14T00:10:57.906Z"
   },
   {
    "duration": 120,
    "start_time": "2024-09-14T00:11:44.924Z"
   },
   {
    "duration": 8,
    "start_time": "2024-09-14T00:21:02.332Z"
   },
   {
    "duration": 115,
    "start_time": "2024-09-14T00:22:22.573Z"
   },
   {
    "duration": 206,
    "start_time": "2024-09-14T00:22:34.405Z"
   },
   {
    "duration": 7,
    "start_time": "2024-09-14T00:27:25.306Z"
   },
   {
    "duration": 13,
    "start_time": "2024-09-14T00:28:05.931Z"
   },
   {
    "duration": 2461,
    "start_time": "2024-09-14T17:29:11.826Z"
   },
   {
    "duration": 253,
    "start_time": "2024-09-14T17:29:14.290Z"
   },
   {
    "duration": 9,
    "start_time": "2024-09-14T17:29:14.545Z"
   },
   {
    "duration": 17,
    "start_time": "2024-09-14T17:29:14.555Z"
   },
   {
    "duration": 4,
    "start_time": "2024-09-14T17:29:14.574Z"
   },
   {
    "duration": 3,
    "start_time": "2024-09-14T17:29:14.579Z"
   },
   {
    "duration": 28,
    "start_time": "2024-09-14T17:29:14.584Z"
   },
   {
    "duration": 5,
    "start_time": "2024-09-14T17:29:14.614Z"
   },
   {
    "duration": 10,
    "start_time": "2024-09-14T17:29:14.620Z"
   },
   {
    "duration": 8,
    "start_time": "2024-09-14T17:29:14.632Z"
   },
   {
    "duration": 7,
    "start_time": "2024-09-14T17:29:14.641Z"
   },
   {
    "duration": 15,
    "start_time": "2024-09-14T17:29:14.649Z"
   },
   {
    "duration": 4,
    "start_time": "2024-09-14T17:29:14.666Z"
   },
   {
    "duration": 82,
    "start_time": "2024-09-14T17:29:14.674Z"
   },
   {
    "duration": 6,
    "start_time": "2024-09-14T17:29:14.758Z"
   },
   {
    "duration": 9,
    "start_time": "2024-09-14T17:29:14.765Z"
   },
   {
    "duration": 12,
    "start_time": "2024-09-14T17:29:14.775Z"
   },
   {
    "duration": 25,
    "start_time": "2024-09-14T17:29:14.788Z"
   },
   {
    "duration": 21,
    "start_time": "2024-09-14T17:29:14.815Z"
   },
   {
    "duration": 5,
    "start_time": "2024-09-14T17:29:14.838Z"
   },
   {
    "duration": 18,
    "start_time": "2024-09-14T17:29:14.845Z"
   },
   {
    "duration": 14,
    "start_time": "2024-09-14T17:29:14.865Z"
   },
   {
    "duration": 4,
    "start_time": "2024-09-14T17:29:14.913Z"
   },
   {
    "duration": 28,
    "start_time": "2024-09-14T17:29:14.919Z"
   },
   {
    "duration": 578,
    "start_time": "2024-09-14T17:29:14.949Z"
   },
   {
    "duration": 0,
    "start_time": "2024-09-14T17:29:15.529Z"
   },
   {
    "duration": 0,
    "start_time": "2024-09-14T17:29:15.530Z"
   },
   {
    "duration": 0,
    "start_time": "2024-09-14T17:29:15.531Z"
   },
   {
    "duration": 0,
    "start_time": "2024-09-14T17:29:15.532Z"
   },
   {
    "duration": 0,
    "start_time": "2024-09-14T17:29:15.533Z"
   },
   {
    "duration": 1,
    "start_time": "2024-09-14T17:29:15.534Z"
   },
   {
    "duration": 0,
    "start_time": "2024-09-14T17:29:15.535Z"
   },
   {
    "duration": 0,
    "start_time": "2024-09-14T17:29:15.536Z"
   },
   {
    "duration": 0,
    "start_time": "2024-09-14T17:29:15.537Z"
   },
   {
    "duration": 0,
    "start_time": "2024-09-14T17:29:15.539Z"
   },
   {
    "duration": 0,
    "start_time": "2024-09-14T17:29:15.540Z"
   },
   {
    "duration": 16,
    "start_time": "2024-09-14T17:29:21.801Z"
   },
   {
    "duration": 11,
    "start_time": "2024-09-14T17:30:04.338Z"
   },
   {
    "duration": 725,
    "start_time": "2024-09-14T17:45:52.870Z"
   },
   {
    "duration": 173,
    "start_time": "2024-09-14T17:45:53.597Z"
   },
   {
    "duration": 8,
    "start_time": "2024-09-14T17:45:53.772Z"
   },
   {
    "duration": 16,
    "start_time": "2024-09-14T17:45:53.784Z"
   },
   {
    "duration": 11,
    "start_time": "2024-09-14T17:45:53.802Z"
   },
   {
    "duration": 4,
    "start_time": "2024-09-14T17:45:53.814Z"
   },
   {
    "duration": 8,
    "start_time": "2024-09-14T17:45:53.820Z"
   },
   {
    "duration": 4,
    "start_time": "2024-09-14T17:45:53.830Z"
   },
   {
    "duration": 9,
    "start_time": "2024-09-14T17:45:53.836Z"
   },
   {
    "duration": 8,
    "start_time": "2024-09-14T17:45:53.849Z"
   },
   {
    "duration": 6,
    "start_time": "2024-09-14T17:45:53.859Z"
   },
   {
    "duration": 53,
    "start_time": "2024-09-14T17:45:53.866Z"
   },
   {
    "duration": 4,
    "start_time": "2024-09-14T17:45:53.920Z"
   },
   {
    "duration": 35,
    "start_time": "2024-09-14T17:45:53.926Z"
   },
   {
    "duration": 6,
    "start_time": "2024-09-14T17:45:53.963Z"
   },
   {
    "duration": 9,
    "start_time": "2024-09-14T17:45:53.970Z"
   },
   {
    "duration": 12,
    "start_time": "2024-09-14T17:45:54.011Z"
   },
   {
    "duration": 4,
    "start_time": "2024-09-14T17:45:54.024Z"
   },
   {
    "duration": 17,
    "start_time": "2024-09-14T17:45:54.029Z"
   },
   {
    "duration": 6,
    "start_time": "2024-09-14T17:45:54.048Z"
   },
   {
    "duration": 18,
    "start_time": "2024-09-14T17:45:54.055Z"
   },
   {
    "duration": 42,
    "start_time": "2024-09-14T17:45:54.075Z"
   },
   {
    "duration": 4,
    "start_time": "2024-09-14T17:45:54.119Z"
   },
   {
    "duration": 26,
    "start_time": "2024-09-14T17:45:54.125Z"
   },
   {
    "duration": 573,
    "start_time": "2024-09-14T17:45:54.152Z"
   },
   {
    "duration": 0,
    "start_time": "2024-09-14T17:45:54.728Z"
   },
   {
    "duration": 0,
    "start_time": "2024-09-14T17:45:54.729Z"
   },
   {
    "duration": 0,
    "start_time": "2024-09-14T17:45:54.730Z"
   },
   {
    "duration": 0,
    "start_time": "2024-09-14T17:45:54.731Z"
   },
   {
    "duration": 0,
    "start_time": "2024-09-14T17:45:54.732Z"
   },
   {
    "duration": 0,
    "start_time": "2024-09-14T17:45:54.733Z"
   },
   {
    "duration": 0,
    "start_time": "2024-09-14T17:45:54.734Z"
   },
   {
    "duration": 0,
    "start_time": "2024-09-14T17:45:54.736Z"
   },
   {
    "duration": 0,
    "start_time": "2024-09-14T17:45:54.737Z"
   },
   {
    "duration": 0,
    "start_time": "2024-09-14T17:45:54.738Z"
   },
   {
    "duration": 0,
    "start_time": "2024-09-14T17:45:54.739Z"
   },
   {
    "duration": 9,
    "start_time": "2024-09-14T17:46:53.661Z"
   },
   {
    "duration": 19,
    "start_time": "2024-09-14T17:46:54.070Z"
   },
   {
    "duration": 16,
    "start_time": "2024-09-14T17:46:54.296Z"
   },
   {
    "duration": 14,
    "start_time": "2024-09-14T17:46:54.532Z"
   },
   {
    "duration": 46,
    "start_time": "2024-09-14T17:46:54.701Z"
   },
   {
    "duration": 20,
    "start_time": "2024-09-14T17:46:55.128Z"
   },
   {
    "duration": 9,
    "start_time": "2024-09-14T17:46:56.286Z"
   },
   {
    "duration": 10,
    "start_time": "2024-09-14T17:46:56.569Z"
   },
   {
    "duration": 268,
    "start_time": "2024-09-14T17:46:57.530Z"
   },
   {
    "duration": 41,
    "start_time": "2024-09-14T17:47:03.070Z"
   },
   {
    "duration": 41,
    "start_time": "2024-09-14T17:47:07.325Z"
   },
   {
    "duration": 43,
    "start_time": "2024-09-14T17:47:14.508Z"
   },
   {
    "duration": 41,
    "start_time": "2024-09-14T17:47:14.723Z"
   },
   {
    "duration": 176,
    "start_time": "2024-09-14T17:47:17.036Z"
   },
   {
    "duration": 166,
    "start_time": "2024-09-14T17:47:29.690Z"
   },
   {
    "duration": 165,
    "start_time": "2024-09-14T17:47:34.281Z"
   },
   {
    "duration": 165,
    "start_time": "2024-09-14T17:48:38.081Z"
   },
   {
    "duration": 178,
    "start_time": "2024-09-14T17:48:54.355Z"
   },
   {
    "duration": 6,
    "start_time": "2024-09-14T17:48:54.536Z"
   },
   {
    "duration": 207,
    "start_time": "2024-09-14T17:48:54.685Z"
   },
   {
    "duration": 110,
    "start_time": "2024-09-14T17:48:55.293Z"
   },
   {
    "duration": 111,
    "start_time": "2024-09-14T17:48:55.501Z"
   },
   {
    "duration": 23,
    "start_time": "2024-09-14T17:48:56.328Z"
   },
   {
    "duration": 50,
    "start_time": "2024-09-14T17:48:56.552Z"
   },
   {
    "duration": 23,
    "start_time": "2024-09-14T17:48:57.399Z"
   },
   {
    "duration": 50,
    "start_time": "2024-09-14T17:48:57.599Z"
   },
   {
    "duration": 49,
    "start_time": "2024-09-14T17:48:57.797Z"
   },
   {
    "duration": 44,
    "start_time": "2024-09-14T17:48:58.623Z"
   },
   {
    "duration": 46,
    "start_time": "2024-09-14T17:48:59.041Z"
   },
   {
    "duration": 163,
    "start_time": "2024-09-14T20:47:27.817Z"
   },
   {
    "duration": 15,
    "start_time": "2024-09-14T20:48:43.658Z"
   },
   {
    "duration": 2550,
    "start_time": "2024-09-14T20:49:05.226Z"
   },
   {
    "duration": 245,
    "start_time": "2024-09-14T20:49:07.779Z"
   },
   {
    "duration": 10,
    "start_time": "2024-09-14T20:49:08.025Z"
   },
   {
    "duration": 19,
    "start_time": "2024-09-14T20:49:08.037Z"
   },
   {
    "duration": 3,
    "start_time": "2024-09-14T20:49:08.057Z"
   },
   {
    "duration": 3,
    "start_time": "2024-09-14T20:49:08.062Z"
   },
   {
    "duration": 8,
    "start_time": "2024-09-14T20:49:08.066Z"
   },
   {
    "duration": 5,
    "start_time": "2024-09-14T20:49:08.109Z"
   },
   {
    "duration": 11,
    "start_time": "2024-09-14T20:49:08.116Z"
   },
   {
    "duration": 8,
    "start_time": "2024-09-14T20:49:08.130Z"
   },
   {
    "duration": 7,
    "start_time": "2024-09-14T20:49:08.140Z"
   },
   {
    "duration": 15,
    "start_time": "2024-09-14T20:49:08.148Z"
   },
   {
    "duration": 5,
    "start_time": "2024-09-14T20:49:08.165Z"
   },
   {
    "duration": 74,
    "start_time": "2024-09-14T20:49:08.172Z"
   },
   {
    "duration": 6,
    "start_time": "2024-09-14T20:49:08.248Z"
   },
   {
    "duration": 10,
    "start_time": "2024-09-14T20:49:08.255Z"
   },
   {
    "duration": 12,
    "start_time": "2024-09-14T20:49:08.266Z"
   },
   {
    "duration": 29,
    "start_time": "2024-09-14T20:49:08.280Z"
   },
   {
    "duration": 18,
    "start_time": "2024-09-14T20:49:08.310Z"
   },
   {
    "duration": 6,
    "start_time": "2024-09-14T20:49:08.330Z"
   },
   {
    "duration": 19,
    "start_time": "2024-09-14T20:49:08.337Z"
   },
   {
    "duration": 14,
    "start_time": "2024-09-14T20:49:08.358Z"
   },
   {
    "duration": 38,
    "start_time": "2024-09-14T20:49:08.374Z"
   },
   {
    "duration": 27,
    "start_time": "2024-09-14T20:49:08.414Z"
   },
   {
    "duration": 17,
    "start_time": "2024-09-14T20:49:08.443Z"
   },
   {
    "duration": 9,
    "start_time": "2024-09-14T20:49:08.462Z"
   },
   {
    "duration": 41,
    "start_time": "2024-09-14T20:49:08.473Z"
   },
   {
    "duration": 13,
    "start_time": "2024-09-14T20:49:08.518Z"
   },
   {
    "duration": 12,
    "start_time": "2024-09-14T20:49:08.532Z"
   },
   {
    "duration": 7,
    "start_time": "2024-09-14T20:49:08.546Z"
   },
   {
    "duration": 15,
    "start_time": "2024-09-14T20:49:08.555Z"
   },
   {
    "duration": 38,
    "start_time": "2024-09-14T20:49:08.572Z"
   },
   {
    "duration": 10,
    "start_time": "2024-09-14T20:49:08.612Z"
   },
   {
    "duration": 14,
    "start_time": "2024-09-14T20:49:08.624Z"
   },
   {
    "duration": 7,
    "start_time": "2024-09-14T20:49:08.641Z"
   },
   {
    "duration": 5,
    "start_time": "2024-09-14T20:49:08.650Z"
   },
   {
    "duration": 199,
    "start_time": "2024-09-14T20:49:08.657Z"
   },
   {
    "duration": 187,
    "start_time": "2024-09-14T20:49:08.858Z"
   },
   {
    "duration": 7,
    "start_time": "2024-09-14T20:49:09.047Z"
   },
   {
    "duration": 129,
    "start_time": "2024-09-14T20:49:09.055Z"
   },
   {
    "duration": 128,
    "start_time": "2024-09-14T20:49:09.186Z"
   },
   {
    "duration": 130,
    "start_time": "2024-09-14T20:49:09.316Z"
   },
   {
    "duration": 7,
    "start_time": "2024-09-14T20:49:09.448Z"
   },
   {
    "duration": 129,
    "start_time": "2024-09-14T20:49:09.457Z"
   },
   {
    "duration": 6,
    "start_time": "2024-09-14T20:49:09.588Z"
   },
   {
    "duration": 123,
    "start_time": "2024-09-14T20:49:09.608Z"
   },
   {
    "duration": 292,
    "start_time": "2024-09-14T20:49:09.733Z"
   },
   {
    "duration": 7,
    "start_time": "2024-09-14T20:49:10.027Z"
   },
   {
    "duration": 13,
    "start_time": "2024-09-14T20:49:10.036Z"
   },
   {
    "duration": 212,
    "start_time": "2024-09-14T21:10:58.214Z"
   },
   {
    "duration": 180,
    "start_time": "2024-09-14T21:14:09.698Z"
   },
   {
    "duration": 811,
    "start_time": "2024-09-14T21:18:24.207Z"
   },
   {
    "duration": 169,
    "start_time": "2024-09-14T21:18:25.021Z"
   },
   {
    "duration": 9,
    "start_time": "2024-09-14T21:18:25.191Z"
   },
   {
    "duration": 21,
    "start_time": "2024-09-14T21:18:25.203Z"
   },
   {
    "duration": 3,
    "start_time": "2024-09-14T21:18:25.226Z"
   },
   {
    "duration": 3,
    "start_time": "2024-09-14T21:18:25.230Z"
   },
   {
    "duration": 8,
    "start_time": "2024-09-14T21:18:25.235Z"
   },
   {
    "duration": 5,
    "start_time": "2024-09-14T21:18:25.245Z"
   },
   {
    "duration": 10,
    "start_time": "2024-09-14T21:18:25.252Z"
   },
   {
    "duration": 45,
    "start_time": "2024-09-14T21:18:25.266Z"
   },
   {
    "duration": 7,
    "start_time": "2024-09-14T21:18:25.314Z"
   },
   {
    "duration": 16,
    "start_time": "2024-09-14T21:18:25.322Z"
   },
   {
    "duration": 5,
    "start_time": "2024-09-14T21:18:25.340Z"
   },
   {
    "duration": 69,
    "start_time": "2024-09-14T21:18:25.347Z"
   },
   {
    "duration": 6,
    "start_time": "2024-09-14T21:18:25.417Z"
   },
   {
    "duration": 9,
    "start_time": "2024-09-14T21:18:25.425Z"
   },
   {
    "duration": 12,
    "start_time": "2024-09-14T21:18:25.436Z"
   },
   {
    "duration": 4,
    "start_time": "2024-09-14T21:18:25.450Z"
   },
   {
    "duration": 53,
    "start_time": "2024-09-14T21:18:25.456Z"
   },
   {
    "duration": 6,
    "start_time": "2024-09-14T21:18:25.511Z"
   },
   {
    "duration": 33,
    "start_time": "2024-09-14T21:18:25.519Z"
   },
   {
    "duration": 15,
    "start_time": "2024-09-14T21:18:25.554Z"
   },
   {
    "duration": 4,
    "start_time": "2024-09-14T21:18:25.570Z"
   },
   {
    "duration": 43,
    "start_time": "2024-09-14T21:18:25.576Z"
   },
   {
    "duration": 19,
    "start_time": "2024-09-14T21:18:25.621Z"
   },
   {
    "duration": 11,
    "start_time": "2024-09-14T21:18:25.642Z"
   },
   {
    "duration": 20,
    "start_time": "2024-09-14T21:18:25.655Z"
   },
   {
    "duration": 38,
    "start_time": "2024-09-14T21:18:25.680Z"
   },
   {
    "duration": 13,
    "start_time": "2024-09-14T21:18:25.719Z"
   },
   {
    "duration": 8,
    "start_time": "2024-09-14T21:18:25.734Z"
   },
   {
    "duration": 16,
    "start_time": "2024-09-14T21:18:25.743Z"
   },
   {
    "duration": 12,
    "start_time": "2024-09-14T21:18:25.760Z"
   },
   {
    "duration": 42,
    "start_time": "2024-09-14T21:18:25.773Z"
   },
   {
    "duration": 13,
    "start_time": "2024-09-14T21:18:25.816Z"
   },
   {
    "duration": 8,
    "start_time": "2024-09-14T21:18:25.831Z"
   },
   {
    "duration": 6,
    "start_time": "2024-09-14T21:18:25.841Z"
   },
   {
    "duration": 220,
    "start_time": "2024-09-14T21:18:25.849Z"
   },
   {
    "duration": 188,
    "start_time": "2024-09-14T21:18:26.071Z"
   },
   {
    "duration": 7,
    "start_time": "2024-09-14T21:18:26.261Z"
   },
   {
    "duration": 141,
    "start_time": "2024-09-14T21:18:26.270Z"
   },
   {
    "duration": 127,
    "start_time": "2024-09-14T21:18:26.413Z"
   },
   {
    "duration": 188,
    "start_time": "2024-09-14T21:18:26.542Z"
   },
   {
    "duration": 8,
    "start_time": "2024-09-14T21:18:26.733Z"
   },
   {
    "duration": 137,
    "start_time": "2024-09-14T21:18:26.743Z"
   },
   {
    "duration": 8,
    "start_time": "2024-09-14T21:18:26.882Z"
   },
   {
    "duration": 127,
    "start_time": "2024-09-14T21:18:26.891Z"
   },
   {
    "duration": 238,
    "start_time": "2024-09-14T21:18:27.020Z"
   },
   {
    "duration": 7,
    "start_time": "2024-09-14T21:18:27.260Z"
   },
   {
    "duration": 13,
    "start_time": "2024-09-14T21:18:27.269Z"
   },
   {
    "duration": 2517,
    "start_time": "2024-09-15T11:51:34.388Z"
   },
   {
    "duration": 271,
    "start_time": "2024-09-15T11:51:36.907Z"
   },
   {
    "duration": 9,
    "start_time": "2024-09-15T11:51:37.180Z"
   },
   {
    "duration": 17,
    "start_time": "2024-09-15T11:51:37.192Z"
   },
   {
    "duration": 3,
    "start_time": "2024-09-15T11:51:37.211Z"
   },
   {
    "duration": 3,
    "start_time": "2024-09-15T11:51:37.215Z"
   },
   {
    "duration": 9,
    "start_time": "2024-09-15T11:51:37.220Z"
   },
   {
    "duration": 5,
    "start_time": "2024-09-15T11:51:37.231Z"
   },
   {
    "duration": 51,
    "start_time": "2024-09-15T11:51:37.237Z"
   },
   {
    "duration": 8,
    "start_time": "2024-09-15T11:51:37.291Z"
   },
   {
    "duration": 6,
    "start_time": "2024-09-15T11:51:37.301Z"
   },
   {
    "duration": 14,
    "start_time": "2024-09-15T11:51:37.310Z"
   },
   {
    "duration": 4,
    "start_time": "2024-09-15T11:51:37.326Z"
   },
   {
    "duration": 71,
    "start_time": "2024-09-15T11:51:37.332Z"
   },
   {
    "duration": 6,
    "start_time": "2024-09-15T11:51:37.405Z"
   },
   {
    "duration": 9,
    "start_time": "2024-09-15T11:51:37.413Z"
   },
   {
    "duration": 12,
    "start_time": "2024-09-15T11:51:37.423Z"
   },
   {
    "duration": 4,
    "start_time": "2024-09-15T11:51:37.437Z"
   },
   {
    "duration": 50,
    "start_time": "2024-09-15T11:51:37.442Z"
   },
   {
    "duration": 6,
    "start_time": "2024-09-15T11:51:37.493Z"
   },
   {
    "duration": 18,
    "start_time": "2024-09-15T11:51:37.500Z"
   },
   {
    "duration": 14,
    "start_time": "2024-09-15T11:51:37.520Z"
   },
   {
    "duration": 4,
    "start_time": "2024-09-15T11:51:37.536Z"
   },
   {
    "duration": 59,
    "start_time": "2024-09-15T11:51:37.541Z"
   },
   {
    "duration": 16,
    "start_time": "2024-09-15T11:51:37.602Z"
   },
   {
    "duration": 10,
    "start_time": "2024-09-15T11:51:37.620Z"
   },
   {
    "duration": 16,
    "start_time": "2024-09-15T11:51:37.632Z"
   },
   {
    "duration": 38,
    "start_time": "2024-09-15T11:51:37.652Z"
   },
   {
    "duration": 13,
    "start_time": "2024-09-15T11:51:37.692Z"
   },
   {
    "duration": 7,
    "start_time": "2024-09-15T11:51:37.707Z"
   },
   {
    "duration": 15,
    "start_time": "2024-09-15T11:51:37.716Z"
   },
   {
    "duration": 10,
    "start_time": "2024-09-15T11:51:37.732Z"
   },
   {
    "duration": 45,
    "start_time": "2024-09-15T11:51:37.743Z"
   },
   {
    "duration": 11,
    "start_time": "2024-09-15T11:51:37.790Z"
   },
   {
    "duration": 7,
    "start_time": "2024-09-15T11:51:37.803Z"
   },
   {
    "duration": 6,
    "start_time": "2024-09-15T11:51:37.812Z"
   },
   {
    "duration": 218,
    "start_time": "2024-09-15T11:51:37.819Z"
   },
   {
    "duration": 195,
    "start_time": "2024-09-15T11:51:38.039Z"
   },
   {
    "duration": 7,
    "start_time": "2024-09-15T11:51:38.235Z"
   },
   {
    "duration": 130,
    "start_time": "2024-09-15T11:51:38.244Z"
   },
   {
    "duration": 119,
    "start_time": "2024-09-15T11:51:38.376Z"
   },
   {
    "duration": 126,
    "start_time": "2024-09-15T11:51:38.497Z"
   },
   {
    "duration": 7,
    "start_time": "2024-09-15T11:51:38.624Z"
   },
   {
    "duration": 131,
    "start_time": "2024-09-15T11:51:38.634Z"
   },
   {
    "duration": 7,
    "start_time": "2024-09-15T11:51:38.767Z"
   },
   {
    "duration": 117,
    "start_time": "2024-09-15T11:51:38.787Z"
   },
   {
    "duration": 282,
    "start_time": "2024-09-15T11:51:38.906Z"
   },
   {
    "duration": 7,
    "start_time": "2024-09-15T11:51:39.190Z"
   },
   {
    "duration": 10,
    "start_time": "2024-09-15T11:51:39.199Z"
   }
  ],
  "colab": {
   "provenance": []
  },
  "kernelspec": {
   "display_name": "Python 3 (ipykernel)",
   "language": "python",
   "name": "python3"
  },
  "language_info": {
   "codemirror_mode": {
    "name": "ipython",
    "version": 3
   },
   "file_extension": ".py",
   "mimetype": "text/x-python",
   "name": "python",
   "nbconvert_exporter": "python",
   "pygments_lexer": "ipython3",
   "version": "3.9.19"
  },
  "toc": {
   "base_numbering": 1,
   "nav_menu": {},
   "number_sections": true,
   "sideBar": true,
   "skip_h1_title": false,
   "title_cell": "Table of Contents",
   "title_sidebar": "Contents",
   "toc_cell": false,
   "toc_position": {},
   "toc_section_display": true,
   "toc_window_display": true
  }
 },
 "nbformat": 4,
 "nbformat_minor": 1
}
